{
 "cells": [
  {
   "cell_type": "markdown",
   "metadata": {
    "id": "kqdMDrN4-Tud"
   },
   "source": [
    "# Trabalho Prático 2 de Ciência de Dados \n",
    "\n",
    "### Descrição\n",
    "\n",
    "Comparação de diferentes algoritmos para criação de modelos.\n",
    "\n",
    "### Objetivos\n",
    "\n",
    "1. Buscar e utilizar algoritmos não vistos na disciplina para tarefas de Regressão e Classificação.\n",
    "2. Comparar os algoritmos escolhidos com conjuntos de dados reais utilizando métricas de avaliação vistas ou não na disciplina.\n",
    "\n",
    "### Equipe formada por\n",
    "- Bárbara Stéphanie Neves Oliveira, 507526\n",
    "- Lucas Benjamim Cunha Bandeira, 507533\n",
    "- Samir Braga Chaves, 513788\n",
    "- Vinicius Bernardo Gabriel, 475210"
   ]
  },
  {
   "cell_type": "markdown",
   "metadata": {
    "id": "Py_IpVvT-aJJ"
   },
   "source": [
    "\n",
    "# *Brazilian Houses to Rent*\n",
    "\n",
    "![Kaggle - Brazilian Houses to Rent Dataset](https://i.imgur.com/wOKxor1.pnghttps://i.imgur.com/wOKxor1.png)\n",
    "\n",
    "O dataset escolhido para realização deste trabalho trata-se do [*Brazilian Houses to Rent*](https://www.kaggle.com/rubenssjr/brasilian-houses-to-rent/code), disponível na comunidade de Ciência de Dados [*Kaggle*: *Your Home for Data Science*](https://www.kaggle.com/).\n",
    "\n",
    "Escolhemos apenas este *dataset* para a realização do trabalho por possuir *features* (atributos) que podem ser utilizadas tanto para a tafera de Regressão quanto para a tarefa de Classificação.\n",
    "\n",
    "![Kaggle - Brazilian Houses to Rent Dataset](https://drive.google.com/uc?id=1KgiGRYBMe6tiQWYOJU8vtr-zgGX6aiCj)"
   ]
  },
  {
   "cell_type": "markdown",
   "metadata": {
    "id": "eoZ4K56J-rmB"
   },
   "source": [
    "# Imports Iniciais"
   ]
  },
  {
   "cell_type": "code",
   "execution_count": 5,
   "metadata": {
    "id": "OZAt8pPZ9WrP"
   },
   "outputs": [],
   "source": [
    "import numpy as np \n",
    "import pandas as pd\n",
    "\n",
    "from sklearn.model_selection import train_test_split, KFold, StratifiedKFold\n",
    "from sklearn.metrics import make_scorer\n",
    "import matplotlib.pyplot as plt\n",
    "import seaborn as sns\n",
    "\n",
    "DEFAULT_FONT_SIZE = 14\n",
    "plt.rcParams['font.size'] = DEFAULT_FONT_SIZE\n",
    "\n",
    "BASE_PATH = '.'\n",
    "GRIDS_BASE_DIR = BASE_PATH + '/Grid Results'\n",
    "MODELS_BASE_DIR = BASE_PATH + '/Best Models'"
   ]
  },
  {
   "cell_type": "code",
   "execution_count": 6,
   "metadata": {
    "id": "wqc-wrb3newB"
   },
   "outputs": [],
   "source": [
    "# Adicionando módulos customizados ao path\n",
    "import sys\n",
    "import warnings\n",
    "warnings.filterwarnings('ignore')\n",
    "\n",
    "sys.path.append(BASE_PATH + '/Modules')\n",
    "import utils # Carregando funções utilitárias\n",
    "import models # Carregando modelos\n",
    "\n",
    "from importlib import reload"
   ]
  },
  {
   "cell_type": "markdown",
   "metadata": {
    "id": "ngELzQde-wAu"
   },
   "source": [
    "# Leitura dos Dados Tratados na Parte 1"
   ]
  },
  {
   "cell_type": "code",
   "execution_count": 7,
   "metadata": {
    "colab": {
     "base_uri": "https://localhost:8080/",
     "height": 204
    },
    "executionInfo": {
     "elapsed": 258,
     "status": "ok",
     "timestamp": 1626384511860,
     "user": {
      "displayName": "Vinicius Bernardo Gabriel UFC",
      "photoUrl": "",
      "userId": "06507825833297863155"
     },
     "user_tz": 180
    },
    "id": "8UbQ7tXW9mnU",
    "outputId": "794f118c-1258-4bc4-c2d5-0e978731ba11"
   },
   "outputs": [
    {
     "data": {
      "text/html": [
       "<div>\n",
       "<style scoped>\n",
       "    .dataframe tbody tr th:only-of-type {\n",
       "        vertical-align: middle;\n",
       "    }\n",
       "\n",
       "    .dataframe tbody tr th {\n",
       "        vertical-align: top;\n",
       "    }\n",
       "\n",
       "    .dataframe thead th {\n",
       "        text-align: right;\n",
       "    }\n",
       "</style>\n",
       "<table border=\"1\" class=\"dataframe\">\n",
       "  <thead>\n",
       "    <tr style=\"text-align: right;\">\n",
       "      <th></th>\n",
       "      <th>area</th>\n",
       "      <th>rooms</th>\n",
       "      <th>bathroom</th>\n",
       "      <th>parking spaces</th>\n",
       "      <th>floor</th>\n",
       "      <th>animal</th>\n",
       "      <th>furniture</th>\n",
       "      <th>hoa (R$)</th>\n",
       "      <th>rent amount (R$)</th>\n",
       "      <th>property tax (R$)</th>\n",
       "      <th>fire insurance (R$)</th>\n",
       "      <th>total (R$)</th>\n",
       "      <th>city_pos_0</th>\n",
       "      <th>city_pos_1</th>\n",
       "      <th>city_pos_2</th>\n",
       "      <th>city_pos_3</th>\n",
       "      <th>city_pos_4</th>\n",
       "    </tr>\n",
       "  </thead>\n",
       "  <tbody>\n",
       "    <tr>\n",
       "      <th>0</th>\n",
       "      <td>70</td>\n",
       "      <td>2</td>\n",
       "      <td>1</td>\n",
       "      <td>1</td>\n",
       "      <td>7</td>\n",
       "      <td>1</td>\n",
       "      <td>1</td>\n",
       "      <td>2065</td>\n",
       "      <td>3300</td>\n",
       "      <td>211</td>\n",
       "      <td>42</td>\n",
       "      <td>5618</td>\n",
       "      <td>0</td>\n",
       "      <td>0</td>\n",
       "      <td>0</td>\n",
       "      <td>0</td>\n",
       "      <td>1</td>\n",
       "    </tr>\n",
       "    <tr>\n",
       "      <th>1</th>\n",
       "      <td>320</td>\n",
       "      <td>4</td>\n",
       "      <td>4</td>\n",
       "      <td>0</td>\n",
       "      <td>20</td>\n",
       "      <td>1</td>\n",
       "      <td>0</td>\n",
       "      <td>1200</td>\n",
       "      <td>4960</td>\n",
       "      <td>1750</td>\n",
       "      <td>63</td>\n",
       "      <td>7973</td>\n",
       "      <td>0</td>\n",
       "      <td>0</td>\n",
       "      <td>0</td>\n",
       "      <td>0</td>\n",
       "      <td>1</td>\n",
       "    </tr>\n",
       "    <tr>\n",
       "      <th>2</th>\n",
       "      <td>80</td>\n",
       "      <td>1</td>\n",
       "      <td>1</td>\n",
       "      <td>1</td>\n",
       "      <td>6</td>\n",
       "      <td>1</td>\n",
       "      <td>0</td>\n",
       "      <td>1000</td>\n",
       "      <td>2800</td>\n",
       "      <td>0</td>\n",
       "      <td>41</td>\n",
       "      <td>3841</td>\n",
       "      <td>0</td>\n",
       "      <td>0</td>\n",
       "      <td>1</td>\n",
       "      <td>0</td>\n",
       "      <td>0</td>\n",
       "    </tr>\n",
       "    <tr>\n",
       "      <th>3</th>\n",
       "      <td>51</td>\n",
       "      <td>2</td>\n",
       "      <td>1</td>\n",
       "      <td>0</td>\n",
       "      <td>2</td>\n",
       "      <td>1</td>\n",
       "      <td>0</td>\n",
       "      <td>270</td>\n",
       "      <td>1112</td>\n",
       "      <td>22</td>\n",
       "      <td>17</td>\n",
       "      <td>1421</td>\n",
       "      <td>0</td>\n",
       "      <td>0</td>\n",
       "      <td>1</td>\n",
       "      <td>0</td>\n",
       "      <td>0</td>\n",
       "    </tr>\n",
       "    <tr>\n",
       "      <th>4</th>\n",
       "      <td>25</td>\n",
       "      <td>1</td>\n",
       "      <td>1</td>\n",
       "      <td>0</td>\n",
       "      <td>1</td>\n",
       "      <td>0</td>\n",
       "      <td>0</td>\n",
       "      <td>0</td>\n",
       "      <td>800</td>\n",
       "      <td>25</td>\n",
       "      <td>11</td>\n",
       "      <td>836</td>\n",
       "      <td>0</td>\n",
       "      <td>0</td>\n",
       "      <td>0</td>\n",
       "      <td>0</td>\n",
       "      <td>1</td>\n",
       "    </tr>\n",
       "  </tbody>\n",
       "</table>\n",
       "</div>"
      ],
      "text/plain": [
       "   area  rooms  bathroom  parking spaces  floor  animal  furniture  hoa (R$)  \\\n",
       "0    70      2         1               1      7       1          1      2065   \n",
       "1   320      4         4               0     20       1          0      1200   \n",
       "2    80      1         1               1      6       1          0      1000   \n",
       "3    51      2         1               0      2       1          0       270   \n",
       "4    25      1         1               0      1       0          0         0   \n",
       "\n",
       "   rent amount (R$)  property tax (R$)  fire insurance (R$)  total (R$)  \\\n",
       "0              3300                211                   42        5618   \n",
       "1              4960               1750                   63        7973   \n",
       "2              2800                  0                   41        3841   \n",
       "3              1112                 22                   17        1421   \n",
       "4               800                 25                   11         836   \n",
       "\n",
       "   city_pos_0  city_pos_1  city_pos_2  city_pos_3  city_pos_4  \n",
       "0           0           0           0           0           1  \n",
       "1           0           0           0           0           1  \n",
       "2           0           0           1           0           0  \n",
       "3           0           0           1           0           0  \n",
       "4           0           0           0           0           1  "
      ]
     },
     "execution_count": 7,
     "metadata": {},
     "output_type": "execute_result"
    }
   ],
   "source": [
    "df = pd.read_csv(BASE_PATH + '/Dataset/houses_to_rent_v2_treated.csv')\n",
    "\n",
    "df.head()"
   ]
  },
  {
   "cell_type": "code",
   "execution_count": 8,
   "metadata": {
    "colab": {
     "base_uri": "https://localhost:8080/"
    },
    "executionInfo": {
     "elapsed": 3,
     "status": "ok",
     "timestamp": 1626383791185,
     "user": {
      "displayName": "Vinicius Bernardo Gabriel UFC",
      "photoUrl": "",
      "userId": "06507825833297863155"
     },
     "user_tz": 180
    },
    "id": "KZeDRjvBA7jF",
    "outputId": "d36c8699-509f-42a7-c0ec-2705caf84930"
   },
   "outputs": [
    {
     "name": "stdout",
     "output_type": "stream",
     "text": [
      "Número de instâncias = 10320\n",
      "Número de atributos = 17\n"
     ]
    }
   ],
   "source": [
    "print('Número de instâncias = {}'.format(len(df)))\n",
    "print('Número de atributos = {}'.format(len(df.columns)))"
   ]
  },
  {
   "cell_type": "code",
   "execution_count": 9,
   "metadata": {
    "colab": {
     "base_uri": "https://localhost:8080/"
    },
    "executionInfo": {
     "elapsed": 6,
     "status": "ok",
     "timestamp": 1626383723117,
     "user": {
      "displayName": "Vinicius Bernardo Gabriel UFC",
      "photoUrl": "",
      "userId": "06507825833297863155"
     },
     "user_tz": 180
    },
    "id": "KYF_it8yA9xZ",
    "outputId": "70420086-639c-455c-c676-cd18d40a7400"
   },
   "outputs": [
    {
     "name": "stdout",
     "output_type": "stream",
     "text": [
      "Tipos de cada atributo:\n",
      "area                   int64\n",
      "rooms                  int64\n",
      "bathroom               int64\n",
      "parking spaces         int64\n",
      "floor                  int64\n",
      "animal                 int64\n",
      "furniture              int64\n",
      "hoa (R$)               int64\n",
      "rent amount (R$)       int64\n",
      "property tax (R$)      int64\n",
      "fire insurance (R$)    int64\n",
      "total (R$)             int64\n",
      "city_pos_0             int64\n",
      "city_pos_1             int64\n",
      "city_pos_2             int64\n",
      "city_pos_3             int64\n",
      "city_pos_4             int64\n",
      "dtype: object\n"
     ]
    }
   ],
   "source": [
    "print('Tipos de cada atributo:\\n{}'.format(df.dtypes))"
   ]
  },
  {
   "cell_type": "markdown",
   "metadata": {
    "id": "RnOJ5OsX-0ol"
   },
   "source": [
    "# Parte 2. Tarefas de Regressão e Classificação"
   ]
  },
  {
   "cell_type": "markdown",
   "metadata": {
    "id": "dshKyvzS_UFR"
   },
   "source": [
    "## Definição dos Problemas\n",
    "\n",
    "- **Tarefa de Regressão:**\n",
    "> A tarefa de Regressão é usada para prever um valor de um conjunto de atributos relacionados. O valor pode ser de qualquer tipo real e não pertence a um conjunto finito. No caso do *Brazilian Houses to Rent Dataset*, temos o sequinte cenário para a tarefa de Regressão:\n",
    "> - Cenário - Regressão: predição do preço total das casas com base nos seus atributos.\n",
    ">\n",
    "> Como visto na Parte 1 deste trabalho, os valores dos atributos `hoa (R$)`, `rent amount (R$)`, `property tax (R$)` e `fire insurance (R$)` são somados para formar o atributo `total (R$)`. Esses atributos também estão positivamente correlacionados, isto é, qualquer um deles sobe com o aumento do valor de outro. Assim, usaremos apenas `total (R$)` para a tarefa de Regressão. \n",
    "\n",
    "- **Tarefa de Classificação:**\n",
    "> A tarefa de Classificação atribui os padrões encontrados nos dados a certas categorias. Dependendo do problema, ela pode ser de diferentes tipos: classificação binária, multiclasse e multirótulo. No caso do *Brazilian Houses to Rent Dataset*, temos três cenários para a tarefa de Classificação:\n",
    "> - Cenário 1 - Classificação Multiclasse: dizer qual cidade que uma casa está disponível para aluguel.\n",
    "> - Cenário 2 - Classificação Binária: categorizar se uma casa aceita ou não animais.\n",
    "> - Cenário 3 - Classificação Binária: categorizar se uma casa está ou não mobiliada.\n",
    ">\n",
    "> Como problema, escolhemos os cenários 2 e 3. Inicialmente, tentamos uní-los para tratar como um problema de Classificação Multirótulo (uma casa poderia ser categorizada em se aceita ou não animais e se possui ou não mobília, por exemplo), mas achamos melhor manter o padrão dos dados e resolver cada cenário separadamente.\n",
    ">\n",
    "> Na Parte 1 do trabalho, mostramos que os dados dos atributos categóricos estão desbalanceados. Para tratar esse problema, na separação dos dados em treino e teste, utilizamos o processo de [estratificação](https://en.wikipedia.org/wiki/Stratified_sampling). Assim, conseguimos manter a proporção de cada classe nos conjuntos de treino e teste."
   ]
  },
  {
   "cell_type": "markdown",
   "metadata": {
    "id": "POs734U1e3zJ"
   },
   "source": [
    "## Métricas de Avaliação\n",
    "\n",
    "A seguir, estão descritas as métricas que serão utilizadas para avaliar os modelos deste trabalho, de acordo com cada uma das tarefas de aprendizado."
   ]
  },
  {
   "cell_type": "markdown",
   "metadata": {
    "id": "-DRjaU5Me7Zo"
   },
   "source": [
    "### Regressão "
   ]
  },
  {
   "cell_type": "code",
   "execution_count": 10,
   "metadata": {
    "id": "8T8Ol2FQ8QaA"
   },
   "outputs": [],
   "source": [
    "from sklearn.metrics import mean_squared_error, mean_absolute_error, r2_score"
   ]
  },
  {
   "cell_type": "markdown",
   "metadata": {
    "id": "VuS8Jc8l8dgd"
   },
   "source": [
    "As métricas importadas acima avaliam modelos de Regressão e são usadas aqui com este fim. \n",
    "\n",
    "- ***Mean Squared Error* (MSE):** calcula o erro médio quadrático entre os valores preditos e os valores reais, logo, objetiva-se minimizá-lo. Os valores possíveis dependem do contexto do problema em que os dados pertencem. Essa métrica é comumente utilizada para traçar a curva de aprendizado do modelo ao longo das iterações. Sua fórmula é\n",
    "\n",
    "<h4 align=\"center\">$\\textrm{MSE} = \\frac{1}{n}\\sum_{i = 1}^{n} (y - \\hat{y})²$</h4>\n",
    "\n",
    "- ***Root Mean Squared Error* (RMSE):** é calculado apenas aplicando a raiz quadrada ao MSE, dada pela fórmula a seguir.\n",
    "\n",
    "<h4 align=\"center\">$\\textrm{RMSE} = \\sqrt{\\textrm{MSE}}$</h4>\n",
    "\n",
    "- ***Mean Absolute Error* (MAE):** calcula o erro médio absoluto entre os valores preditos e os valores reais.\n",
    "\n",
    "<h4 align=\"center\">$\\textrm{MAE} = \\frac{1}{n}\\sum_{i = 1}^{n} |y - \\hat{y}|$</h4>\n",
    "\n",
    "- ***R-Squared* (R²):** representa a proporção da variância (de *y*) que foi explicada pelas variáveis independentes no modelo. O R² fornece uma indicação da qualidade da convergência e, portanto, é uma medida do quão bem as amostras não vistas podem ser previstas pelo modelo, por meio da proporção da variância explicada.\n",
    "\n",
    "<h4 align=\"center\">\n",
    "  $R^2(y, \\hat{y}) = 1 - \\frac{\\sum_{i=1}^{n} (y_i - \\hat{y}_i)^2}{\\sum_{i=1}^{n} (y_i - \\bar{y})^2}$\n",
    "</h4>\n",
    "<h4 align=\"center\">\n",
    "  $\\bar{y} = \\frac{1}{n} \\sum_{i=1}^{n} y_i$\n",
    "</h4>"
   ]
  },
  {
   "cell_type": "markdown",
   "metadata": {
    "id": "v9Ma_WX3fBZ1"
   },
   "source": [
    "### Classificação "
   ]
  },
  {
   "cell_type": "code",
   "execution_count": 11,
   "metadata": {
    "id": "S6uHxIoQe-xf"
   },
   "outputs": [],
   "source": [
    "from sklearn.metrics import accuracy_score, precision_score, recall_score, f1_score, log_loss"
   ]
  },
  {
   "cell_type": "markdown",
   "metadata": {
    "id": "c98f1qv_xCKS"
   },
   "source": [
    "As métricas importadas na célula anterior são bastante comuns para a avaliação de modelos para tarefas de Classificação, em especial a Classificação Binária. Todas são funções com domínio no intervalo [0-1], sendo **0** o pior e **1** o melhor. As definições das métricas estão listadas a seguir.\n",
    "\n",
    "- ***Precision* (*P*):** avalia quanto dos elementos selecionados são \"relevantes\", ou seja, quantos dos quais o modelo afirmou serem positivos são realmente positivos. Sua fórmula é\n",
    "\n",
    "<h4 align=\"center\">$P = \\frac{\\textrm{Verdadeiros Positivos}}{\\textrm{Verdadeiros Positivos + Falsos Positivos}}$</h4>\n",
    "\n",
    "- ***Recall* (*R*):** avalia quantos elementos \"relevantes\" foram selecionados, ou seja, dentre todos os sabidamente positivos quantos o modelo afirmou serem positivos. \n",
    "\n",
    "<h4 align=\"center\">$R = \\frac{\\textrm{Verdadeiros Positivos}}{\\textrm{Verdadeiros Positivos + Falsos Negativos}}$</h4>\n",
    "\n",
    "- ***F1-score* (*F*$_1$):** tem o propósito de baleancar as métricas *P* e *R*. Essa necessidade surge pois os resultados de ambas as métricas podem ser fortemente influenciados pela distribuição das classes. Por exemplo, em um modelo que retorna sempre uma predição positiva terá *Recall* igual a 1, enquanto o *Precision* será bem baixo. \n",
    "\n",
    "\n",
    "<h4 align=\"center\">$F_1 = 2 \\cdot \\frac{P \\times R}{P + R}$</h4>\n",
    "\n",
    "- ***Accuracy*:** a acurácia calcula a taxa de acertos, ou seja, indenpendente da classe predita, quantos valores o modelo acertou.\n",
    "\n",
    "\n",
    "<h4 align=\"center\">$Accuracy = \\frac{\\textrm{elementos preditos corretamente}}{\\textrm{total de elementos}} $</h4>\n",
    "\n",
    "- ***Binary Cross Entropy* (*BCE*):** função de custo usada na Regressão Logística (multinomial). Por ser utilizada para a convergência do modelo, também pode avaliar seu desempenho. A diferença das demais é que ela é calculada a partir das probabilidades da predição de cada classe e não apenas sobre a classe final. Sua fórmula é dada por:\n",
    "\n",
    "\n",
    "<h4 align=\"center\">$L_{\\log}(y, p) = -(y \\log (p) + (1 - y) \\log (1 - p))$\n",
    "</h4>"
   ]
  },
  {
   "cell_type": "markdown",
   "metadata": {
    "id": "iwyT9exhfJj-"
   },
   "source": [
    "## Treinamento dos Modelos\n",
    "\n",
    "Na disciplina, vimos alguns algoritmos para criação de modelos, como Regressão Linear e Logística, e K-Vizinhos Mais Próximos (KNN). Além desses algoritmos, iremos usar para experimentação alguns dos modelos mais populares e que já alcançaram o estado da arte. \n",
    "\n",
    "Para deixar nossa experimentação mais consistente, realizaremos as seguintes etapas:\n",
    "\n",
    "<center>\n",
    "  <img width=\"800\" src=\"https://sebastianraschka.com/images/blog/2016/model-evaluation-selection-part3/kfold-selection.png\" />\n",
    "</center>\n",
    "\n",
    "A descrição detalhada da figura pode ser encontrada neste [*link*](https://sebastianraschka.com/blog/2016/model-evaluation-selection-part3.html). Resumiremos aqui cada passo trazendo mais para o contexto deste trabalho.\n",
    "\n",
    "> 1. Separação dos dados em treino e teste, de acordo com a tarefa. O conjunto de teste é \"guardado\" para a etapa final de comparação dos melhores modelos.\n",
    "2. Para a **comparação inicial** da perfomance de cada modelo, a experimentação consiste em otimizar os parâmetros através de uma ***Grid Search***. Para cada *grid*/configuração de hiperparâmetros, é aplicado o método ***cross-validation***¹ no conjunto de treino, resultando assim em vários modelos e estimativas de desempenho. Dependendo do algoritmo do modelo (se Regressão Linear, KNN, etc.), é explicada a escolha por trás da *grid* de parâmetros.\n",
    "3. De acordo com os resultados obtidos com a *cross-validated grid-search* para cada uma das métricas de avaliação, é escolhido o melhor modelo. Na verdade, para facilitar, uma **métrica padrão** é escolhida para servir como critério de escolha deste melhor modelo.\n",
    "4. Por fim, é feita a **comparação final** dos melhores modelos para cada uma das tarefas usando o seu respectivo **conjunto de teste**.\n",
    "5. Como não será necessário colocar nada em produção (*deployment*), não é preciso realizar este passo :)\n",
    "\n",
    "Neste *notebook*, realizaremos as etapas 1, 2 e 3, e salvaremos os modelos e os conjuntos de teste para serem usados na Parte 3 deste trabalho. A explicação de cada um dos algoritmos não vistos na disciplina estão em seus respectivos tópicos, a seguir, separados de acordo com a tarefa de aprendizado.\n",
    "\n",
    "¹ Especificamente, escolhemos separar em 3-*folds*, pois além de 3 ser divisor de 10.320 (tamanho do *dataset*), como não temos muitos dados, um grande valor para *k* não seria uma boa escolha. Geralmente, um *k* muito grande significa que apenas um número baixo de combinações da amostra é possível, limitando assim o número de iterações possíveis em cada *fold*.\n",
    "\n"
   ]
  },
  {
   "cell_type": "markdown",
   "metadata": {
    "id": "dpJkyXgnXDtH"
   },
   "source": [
    "### Regressão\n",
    "\n",
    "Para a **tarefa de Regressão**, além dos modelos de Regressão Linear e KNN dados na disciplina, usaremos Árvores de Decisão (*Decision Tree*) e *Support Vector Machines* (SVM). A justificava do porque usaremos esses modelos e os resultados das *Grids Search* estarão em suas respectivas seções. \n",
    "\n",
    "Em relação ao atributos e o valor alvo para predição, as colunas `city`, `area`, `rooms`, `bathroom`, `parking spaces`, `floor`, `animal` e `furniture` serão nosso *X*, enquanto que o nosso *y* será a coluna `total (R$)`, como já explicado anteriormente.\n",
    "\n",
    "Nas *Grids Search* abaixo, os melhores modelos são os que estão presentes no índice 0 de cada *dataframe*."
   ]
  },
  {
   "cell_type": "code",
   "execution_count": 12,
   "metadata": {
    "colab": {
     "base_uri": "https://localhost:8080/"
    },
    "executionInfo": {
     "elapsed": 288,
     "status": "ok",
     "timestamp": 1626384524498,
     "user": {
      "displayName": "Vinicius Bernardo Gabriel UFC",
      "photoUrl": "",
      "userId": "06507825833297863155"
     },
     "user_tz": 180
    },
    "id": "-YxYVDtIaXay",
    "outputId": "0b389b8f-89bd-4cc3-94e7-9171a3319196"
   },
   "outputs": [
    {
     "name": "stdout",
     "output_type": "stream",
     "text": [
      "Atributos usados no treino da Regressão = ['area', 'rooms', 'bathroom', 'parking spaces', 'floor', 'animal', 'furniture', 'city_pos_0', 'city_pos_1', 'city_pos_2', 'city_pos_3', 'city_pos_4']\n",
      "Atributo alvo da Regressão = total (R$)\n"
     ]
    }
   ],
   "source": [
    "# X = city, area, rooms, bathroom, parking spaces, floor, animal e furniture\n",
    "# y (target) = total (R$)\n",
    "REGRESSION_LEARNING_COLUMNS = df.columns[:7].tolist() + [\"city_pos_0\", \"city_pos_1\", \"city_pos_2\", \"city_pos_3\", \"city_pos_4\"]\n",
    "REGRESSION_TARGET_COLUMN = \"total (R$)\"\n",
    "\n",
    "print(f\"Atributos usados no treino da Regressão = {REGRESSION_LEARNING_COLUMNS}\")\n",
    "print(f\"Atributo alvo da Regressão = {REGRESSION_TARGET_COLUMN}\")\n",
    "\n",
    "X_reg, y_reg = df[REGRESSION_LEARNING_COLUMNS].values, df[REGRESSION_TARGET_COLUMN].values "
   ]
  },
  {
   "cell_type": "code",
   "execution_count": 13,
   "metadata": {
    "colab": {
     "base_uri": "https://localhost:8080/"
    },
    "executionInfo": {
     "elapsed": 5108,
     "status": "ok",
     "timestamp": 1626384530605,
     "user": {
      "displayName": "Vinicius Bernardo Gabriel UFC",
      "photoUrl": "",
      "userId": "06507825833297863155"
     },
     "user_tz": 180
    },
    "id": "6aRBGB7TZePS",
    "outputId": "686e22a7-6eb5-42e9-af8a-f1257bb16195"
   },
   "outputs": [
    {
     "data": {
      "text/plain": [
       "((8256, 12), (2064, 12), (8256,), (2064,))"
      ]
     },
     "execution_count": 13,
     "metadata": {},
     "output_type": "execute_result"
    }
   ],
   "source": [
    "# Separando os dados nos conjuntos de treino e teste para Regressão \n",
    "X_train_reg, X_test_reg, y_train_reg, y_test_reg = train_test_split(X_reg, y_reg, test_size=.2, random_state=42)\n",
    "\n",
    "# Salvando o conjunto de teste\n",
    "utils.save_sets(X_test_reg, y_test_reg, BASE_PATH + '/Dataset/test_set_regression.json')\n",
    "\n",
    "X_train_reg.shape, X_test_reg.shape, y_train_reg.shape, y_test_reg.shape"
   ]
  },
  {
   "cell_type": "markdown",
   "metadata": {
    "id": "6xqHw4vAaIiQ"
   },
   "source": [
    "- **Métrica padrão:**\n",
    "\n",
    "> Usaremos a RMSE como critério para escolher o melhor modelo, pois:\n",
    "> 1. É usada mais que a MSE porque às vezes o valor da MSE pode ser muito grande.\n",
    "> 2. A MSE é calculada obtendo o quadrado do erro e, portanto, a raiz quadrada da RMSE traz de volta o mesmo nível do erro de predição. Além disso, a RMSE é a métrica  utilizada pelo *Kaggle* para avaliar as submissões de problemas de Regressão. Também, como este problema envolve preços de aluguéis, a RMSE é mais interessante do que a MAE neste sentido, por penalizar mais erros maiores, que são indesejados."
   ]
  },
  {
   "cell_type": "code",
   "execution_count": 14,
   "metadata": {
    "id": "Ma_tYgCrBv3F"
   },
   "outputs": [],
   "source": [
    "reg_score_metrics = {\n",
    "    'root_mean_squared_error': make_scorer(utils.rmse, greater_is_better=False), \n",
    "    'mean_squared_error': make_scorer(mean_squared_error, greater_is_better=False),\n",
    "    'mean_absolute_error': make_scorer(mean_absolute_error, greater_is_better=False),\n",
    "    'r2_error': make_scorer(r2_score)\n",
    "}\n",
    "\n",
    "reg_best_criteria = 'root_mean_squared_error'"
   ]
  },
  {
   "cell_type": "code",
   "execution_count": 15,
   "metadata": {
    "colab": {
     "base_uri": "https://localhost:8080/"
    },
    "executionInfo": {
     "elapsed": 580141,
     "status": "ok",
     "timestamp": 1626385116541,
     "user": {
      "displayName": "Vinicius Bernardo Gabriel UFC",
      "photoUrl": "",
      "userId": "06507825833297863155"
     },
     "user_tz": 180
    },
    "id": "4FcMkIM5tF5T",
    "outputId": "662dd626-b65f-485a-ca9a-e576f64e9230"
   },
   "outputs": [
    {
     "name": "stdout",
     "output_type": "stream",
     "text": [
      "[DONE] Treino e geração da GridSearch do modelo Regressão Linear --> 0.026829004287719727 segundos\n",
      "[DONE] Treino e geração da GridSearch do modelo KNN para Regressão --> 12.196754932403564 segundos\n",
      "[DONE] Treino e geração da GridSearch do modelo Árvore de Decisão para Regressão --> 4.763818979263306 segundos\n",
      "[DONE] Treino e geração da GridSearch do modelo SVM para Regressão --> 487.11255288124084 segundos\n",
      "\n",
      "Salvando os resultados das grids search de cada modelo...\n",
      "Salvando os melhores modelos...\n"
     ]
    },
    {
     "data": {
      "text/plain": [
       "{'linear_regression': LinearRegression(normalize=True),\n",
       " 'knn': KNeighborsRegressor(metric='manhattan', n_neighbors=25, weights='distance'),\n",
       " 'decision_tree': DecisionTreeRegressor(),\n",
       " 'svr': Pipeline(steps=[('scaler', StandardScaler()),\n",
       "                 ('svr', SVR(C=3000, gamma='auto'))])}"
      ]
     },
     "execution_count": 15,
     "metadata": {},
     "output_type": "execute_result"
    }
   ],
   "source": [
    "reg_models_dir = MODELS_BASE_DIR + \"/Regression\"\n",
    "reg_grids_dir = GRIDS_BASE_DIR + \"/Regression\"\n",
    "reg_cv = KFold(n_splits=3, shuffle=True, random_state=42)\n",
    "\n",
    "# Criação das Grids Search e seleção dos melhores modelos de acordo com a RMSE\n",
    "best_regression_models = models.train_regression_models(needs_to_train=True, \n",
    "                                                        models_path=reg_models_dir, \n",
    "                                                        X_train=X_train_reg, \n",
    "                                                        y_train=y_train_reg, \n",
    "                                                        score_metrics=reg_score_metrics, \n",
    "                                                        cv=reg_cv, \n",
    "                                                        best_criteria=reg_best_criteria, \n",
    "                                                        grids_path=reg_grids_dir)\n",
    "\n",
    "best_regression_models"
   ]
  },
  {
   "cell_type": "markdown",
   "metadata": {
    "id": "oI9LgGtrc8Xx"
   },
   "source": [
    "#### Regressão Linear"
   ]
  },
  {
   "cell_type": "code",
   "execution_count": 16,
   "metadata": {
    "colab": {
     "base_uri": "https://localhost:8080/",
     "height": 80
    },
    "executionInfo": {
     "elapsed": 8,
     "status": "ok",
     "timestamp": 1626383730492,
     "user": {
      "displayName": "Vinicius Bernardo Gabriel UFC",
      "photoUrl": "",
      "userId": "06507825833297863155"
     },
     "user_tz": 180
    },
    "id": "NyezSGRh0V26",
    "outputId": "5022f3bd-f2fd-49f8-94b6-8944c0796acf"
   },
   "outputs": [
    {
     "data": {
      "text/html": [
       "<div>\n",
       "<style scoped>\n",
       "    .dataframe tbody tr th:only-of-type {\n",
       "        vertical-align: middle;\n",
       "    }\n",
       "\n",
       "    .dataframe tbody tr th {\n",
       "        vertical-align: top;\n",
       "    }\n",
       "\n",
       "    .dataframe thead th {\n",
       "        text-align: right;\n",
       "    }\n",
       "</style>\n",
       "<table border=\"1\" class=\"dataframe\">\n",
       "  <thead>\n",
       "    <tr style=\"text-align: right;\">\n",
       "      <th></th>\n",
       "      <th>mean_test_root_mean_squared_error</th>\n",
       "      <th>mean_test_mean_squared_error</th>\n",
       "      <th>mean_test_mean_absolute_error</th>\n",
       "      <th>mean_test_r2_error</th>\n",
       "      <th>params</th>\n",
       "    </tr>\n",
       "  </thead>\n",
       "  <tbody>\n",
       "    <tr>\n",
       "      <th>0</th>\n",
       "      <td>2758.896741</td>\n",
       "      <td>7.616808e+06</td>\n",
       "      <td>1802.487424</td>\n",
       "      <td>0.627866</td>\n",
       "      <td>{}</td>\n",
       "    </tr>\n",
       "  </tbody>\n",
       "</table>\n",
       "</div>"
      ],
      "text/plain": [
       "   mean_test_root_mean_squared_error  mean_test_mean_squared_error  \\\n",
       "0                        2758.896741                  7.616808e+06   \n",
       "\n",
       "   mean_test_mean_absolute_error  mean_test_r2_error params  \n",
       "0                    1802.487424            0.627866     {}  "
      ]
     },
     "execution_count": 16,
     "metadata": {},
     "output_type": "execute_result"
    }
   ],
   "source": [
    "pd.read_csv(reg_grids_dir + '/linear_regression.csv')"
   ]
  },
  {
   "cell_type": "markdown",
   "metadata": {
    "id": "Yd_jabZ8mprW"
   },
   "source": [
    "#### KNN\n",
    "\n",
    "- **Combinações de hiperparâmetros utilizadas:**\n",
    "> - `n_neighbors` = `range(5, 51, 5)` \n",
    ">    - Pelo o que sabemos, não existem métodos estatísticos predefinidos para encontrar o valor mais favorável dos *k*-vizinhos mais próximos. Talvez, o método mais recomendado seja o [Método do Covotelo (*Elbow Curve*)](https://en.wikipedia.org/wiki/Elbow_method_(clustering)). \n",
    ">    - Definimos os números de vizinhos começando de 5 (padrão do *Scikit-learn*) e indo de 5 em 5 até 50. Sabemos que essa também é uma maneira de identificar qual o *k* ideal.\n",
    "> - `weights` = `['uniform', 'distance']`\n",
    ">    - Indica a função de peso ou kernel. Os *k*-pontos mais próximos recebem um peso de acordo com essa função. \n",
    ">    - O padrão do [*Scikit-learn*](https://scikit-learn.org/stable/modules/generated/sklearn.neighbors.KNeighborsRegressor.html) é o `uniform`, ou seja, todos os pontos são ponderados igualmente. Outra opção que consideramos como hiperparâmetro é usar o `distance`. A intuição por trás do `distance` é dar mais peso aos pontos que estão próximos e menos peso aos pontos que estão mais distantes. \n",
    "> - `metric` = `['euclidean', 'manhattan', 'chebyshev']`\n",
    ">    - Consideramos como métricas de distâncias as [mais populares](https://www.kdnuggets.com/2020/11/most-popular-distance-metrics-knn.html) e disponíveis pela biblioteca. A métrica é um dos fatorores mais importantes, já que decide quem será considerado como vizinho mais próximo.\n",
    "\n",
    "Por padrão, o *Scikit-learn* seleciona o algoritmo mais apropriado (`BallTree`, `KDTree`, etc.) para computar os vizinhos mais próximos com base nos valores passados ​​para o modelo. Sabemos mais ou menos as diferenças de cada algoritmo, mas preferimos deixar que o método do *Scikit-learn* faça a escolha."
   ]
  },
  {
   "cell_type": "code",
   "execution_count": 17,
   "metadata": {
    "colab": {
     "base_uri": "https://localhost:8080/",
     "height": 221
    },
    "executionInfo": {
     "elapsed": 262,
     "status": "ok",
     "timestamp": 1626383746152,
     "user": {
      "displayName": "Vinicius Bernardo Gabriel UFC",
      "photoUrl": "",
      "userId": "06507825833297863155"
     },
     "user_tz": 180
    },
    "id": "PBPH_vnQmsc-",
    "outputId": "bcf678aa-8a86-4709-f7fa-92d8663cbc60"
   },
   "outputs": [
    {
     "name": "stdout",
     "output_type": "stream",
     "text": [
      "Quantidade de combinações possíveis dos modelos da grid = 60 modelos\n"
     ]
    },
    {
     "data": {
      "text/html": [
       "<div>\n",
       "<style scoped>\n",
       "    .dataframe tbody tr th:only-of-type {\n",
       "        vertical-align: middle;\n",
       "    }\n",
       "\n",
       "    .dataframe tbody tr th {\n",
       "        vertical-align: top;\n",
       "    }\n",
       "\n",
       "    .dataframe thead th {\n",
       "        text-align: right;\n",
       "    }\n",
       "</style>\n",
       "<table border=\"1\" class=\"dataframe\">\n",
       "  <thead>\n",
       "    <tr style=\"text-align: right;\">\n",
       "      <th></th>\n",
       "      <th>mean_test_root_mean_squared_error</th>\n",
       "      <th>mean_test_mean_squared_error</th>\n",
       "      <th>mean_test_mean_absolute_error</th>\n",
       "      <th>mean_test_r2_error</th>\n",
       "      <th>params</th>\n",
       "    </tr>\n",
       "  </thead>\n",
       "  <tbody>\n",
       "    <tr>\n",
       "      <th>0</th>\n",
       "      <td>2793.079284</td>\n",
       "      <td>7.805025e+06</td>\n",
       "      <td>1781.468624</td>\n",
       "      <td>0.618571</td>\n",
       "      <td>{'metric': 'manhattan', 'n_neighbors': 25, 'we...</td>\n",
       "    </tr>\n",
       "    <tr>\n",
       "      <th>1</th>\n",
       "      <td>2794.359613</td>\n",
       "      <td>7.812275e+06</td>\n",
       "      <td>1779.583091</td>\n",
       "      <td>0.618223</td>\n",
       "      <td>{'metric': 'manhattan', 'n_neighbors': 20, 'we...</td>\n",
       "    </tr>\n",
       "    <tr>\n",
       "      <th>2</th>\n",
       "      <td>2797.100894</td>\n",
       "      <td>7.827676e+06</td>\n",
       "      <td>1787.097855</td>\n",
       "      <td>0.617472</td>\n",
       "      <td>{'metric': 'manhattan', 'n_neighbors': 30, 'we...</td>\n",
       "    </tr>\n",
       "    <tr>\n",
       "      <th>3</th>\n",
       "      <td>2797.451166</td>\n",
       "      <td>7.829686e+06</td>\n",
       "      <td>1777.407955</td>\n",
       "      <td>0.617380</td>\n",
       "      <td>{'metric': 'manhattan', 'n_neighbors': 15, 'we...</td>\n",
       "    </tr>\n",
       "    <tr>\n",
       "      <th>4</th>\n",
       "      <td>2797.932112</td>\n",
       "      <td>7.832721e+06</td>\n",
       "      <td>1790.724776</td>\n",
       "      <td>0.617251</td>\n",
       "      <td>{'metric': 'manhattan', 'n_neighbors': 35, 'we...</td>\n",
       "    </tr>\n",
       "  </tbody>\n",
       "</table>\n",
       "</div>"
      ],
      "text/plain": [
       "   mean_test_root_mean_squared_error  mean_test_mean_squared_error  \\\n",
       "0                        2793.079284                  7.805025e+06   \n",
       "1                        2794.359613                  7.812275e+06   \n",
       "2                        2797.100894                  7.827676e+06   \n",
       "3                        2797.451166                  7.829686e+06   \n",
       "4                        2797.932112                  7.832721e+06   \n",
       "\n",
       "   mean_test_mean_absolute_error  mean_test_r2_error  \\\n",
       "0                    1781.468624            0.618571   \n",
       "1                    1779.583091            0.618223   \n",
       "2                    1787.097855            0.617472   \n",
       "3                    1777.407955            0.617380   \n",
       "4                    1790.724776            0.617251   \n",
       "\n",
       "                                              params  \n",
       "0  {'metric': 'manhattan', 'n_neighbors': 25, 'we...  \n",
       "1  {'metric': 'manhattan', 'n_neighbors': 20, 'we...  \n",
       "2  {'metric': 'manhattan', 'n_neighbors': 30, 'we...  \n",
       "3  {'metric': 'manhattan', 'n_neighbors': 15, 'we...  \n",
       "4  {'metric': 'manhattan', 'n_neighbors': 35, 'we...  "
      ]
     },
     "execution_count": 17,
     "metadata": {},
     "output_type": "execute_result"
    }
   ],
   "source": [
    "df_grid_reg_knn = pd.read_csv(reg_grids_dir + '/knn.csv')\n",
    "print('Quantidade de combinações possíveis dos modelos da grid = {} modelos'.format(len(df_grid_reg_knn)))\n",
    "df_grid_reg_knn.head()"
   ]
  },
  {
   "cell_type": "markdown",
   "metadata": {
    "id": "-xIhn2C3W0X-"
   },
   "source": [
    "#### Árvores de Decisão\n",
    "\n",
    "Como o nome sugere, as Árvores de Decisão utilizam a estrutura de árvoce para representar o conhecimento adquirido em um processo de aprendizado. Cada nó interno divide uma dimensão dos dados em um determinado limiar, como pode ser observado na figura abaixo.\n",
    "\n",
    "<center>\n",
    "  <img width=\"375\" src=\"https://dinhanhthi.com/img/post/ML/random-forest-decision-tree/r2.jpg\" />\n",
    "</center>\n",
    "\n",
    "A construção da árvore é realizada automaticamente a partir dos próprios dados, geralmente utilizado uma heurística \"gulosa\", a qual baseia-se em:\n",
    "1. Iniciar com uma árvore vazia;\n",
    "2. Encontrar o melhor atributo para realizar uma divisão;\n",
    "3. Repitir recursivamente o passo anterior para o próximo nó até\n",
    "encontrar uma folha.\n",
    "\n",
    "Assim, na Regressão, os dados são separados em diversos nós para cada atributo dependente. Nesses nós, é feita a média do erro entre os valores preditos e os valores reais. O nó que obtiver o menor valor é escolhido para divisão. Para encontrar o melhor atributo, utilizam-se métricas de pureza de um nó, como as descritas abaixo.\n",
    "\n",
    "- **Combinações de hiperparâmetros utilizadas:**\n",
    "> - `criterion` = `['mse', 'mae']`\n",
    ">    - Mede a qualidade de como os nós da árvore podem ser divididos. Os métodos escolhidos se tratam de métricas para a Regressão, já explicadas neste trabalho. \n",
    "> - `splitter` = `['best', 'random']`\n",
    ">    - O `splitter` indica a estratégia usada para escolher a divisão de cada nó da árvore. As estratégias disponíveis pelo [*Scikit-learn*](https://scikit-learn.org/stable/modules/generated/sklearn.tree.DecisionTreeRegressor.html) são `best`, que escolhe a melhor divisão, e `random`, que escolhe a melhor divisão aleatoriamente."
   ]
  },
  {
   "cell_type": "code",
   "execution_count": 18,
   "metadata": {
    "colab": {
     "base_uri": "https://localhost:8080/",
     "height": 190
    },
    "executionInfo": {
     "elapsed": 343,
     "status": "ok",
     "timestamp": 1626383730831,
     "user": {
      "displayName": "Vinicius Bernardo Gabriel UFC",
      "photoUrl": "",
      "userId": "06507825833297863155"
     },
     "user_tz": 180
    },
    "id": "mxjb5ax2cHEh",
    "outputId": "af3e12f7-07ea-4164-e4ff-298858ac49be"
   },
   "outputs": [
    {
     "name": "stdout",
     "output_type": "stream",
     "text": [
      "Quantidade de combinações possíveis dos modelos da grid = 4 modelos\n"
     ]
    },
    {
     "data": {
      "text/html": [
       "<div>\n",
       "<style scoped>\n",
       "    .dataframe tbody tr th:only-of-type {\n",
       "        vertical-align: middle;\n",
       "    }\n",
       "\n",
       "    .dataframe tbody tr th {\n",
       "        vertical-align: top;\n",
       "    }\n",
       "\n",
       "    .dataframe thead th {\n",
       "        text-align: right;\n",
       "    }\n",
       "</style>\n",
       "<table border=\"1\" class=\"dataframe\">\n",
       "  <thead>\n",
       "    <tr style=\"text-align: right;\">\n",
       "      <th></th>\n",
       "      <th>mean_test_root_mean_squared_error</th>\n",
       "      <th>mean_test_mean_squared_error</th>\n",
       "      <th>mean_test_mean_absolute_error</th>\n",
       "      <th>mean_test_r2_error</th>\n",
       "      <th>params</th>\n",
       "    </tr>\n",
       "  </thead>\n",
       "  <tbody>\n",
       "    <tr>\n",
       "      <th>0</th>\n",
       "      <td>3565.536735</td>\n",
       "      <td>1.271573e+07</td>\n",
       "      <td>2191.289762</td>\n",
       "      <td>0.378254</td>\n",
       "      <td>{'criterion': 'mse', 'splitter': 'best'}</td>\n",
       "    </tr>\n",
       "    <tr>\n",
       "      <th>1</th>\n",
       "      <td>3631.720593</td>\n",
       "      <td>1.320499e+07</td>\n",
       "      <td>2219.437682</td>\n",
       "      <td>0.353907</td>\n",
       "      <td>{'criterion': 'mae', 'splitter': 'best'}</td>\n",
       "    </tr>\n",
       "    <tr>\n",
       "      <th>2</th>\n",
       "      <td>3664.402990</td>\n",
       "      <td>1.343947e+07</td>\n",
       "      <td>2224.427265</td>\n",
       "      <td>0.341329</td>\n",
       "      <td>{'criterion': 'mae', 'splitter': 'random'}</td>\n",
       "    </tr>\n",
       "    <tr>\n",
       "      <th>3</th>\n",
       "      <td>3683.670695</td>\n",
       "      <td>1.357060e+07</td>\n",
       "      <td>2239.115377</td>\n",
       "      <td>0.335813</td>\n",
       "      <td>{'criterion': 'mse', 'splitter': 'random'}</td>\n",
       "    </tr>\n",
       "  </tbody>\n",
       "</table>\n",
       "</div>"
      ],
      "text/plain": [
       "   mean_test_root_mean_squared_error  mean_test_mean_squared_error  \\\n",
       "0                        3565.536735                  1.271573e+07   \n",
       "1                        3631.720593                  1.320499e+07   \n",
       "2                        3664.402990                  1.343947e+07   \n",
       "3                        3683.670695                  1.357060e+07   \n",
       "\n",
       "   mean_test_mean_absolute_error  mean_test_r2_error  \\\n",
       "0                    2191.289762            0.378254   \n",
       "1                    2219.437682            0.353907   \n",
       "2                    2224.427265            0.341329   \n",
       "3                    2239.115377            0.335813   \n",
       "\n",
       "                                       params  \n",
       "0    {'criterion': 'mse', 'splitter': 'best'}  \n",
       "1    {'criterion': 'mae', 'splitter': 'best'}  \n",
       "2  {'criterion': 'mae', 'splitter': 'random'}  \n",
       "3  {'criterion': 'mse', 'splitter': 'random'}  "
      ]
     },
     "execution_count": 18,
     "metadata": {},
     "output_type": "execute_result"
    }
   ],
   "source": [
    "df_grid_reg_dt = pd.read_csv(reg_grids_dir + '/decision_tree.csv')\n",
    "print('Quantidade de combinações possíveis dos modelos da grid = {} modelos'.format(len(df_grid_reg_dt)))\n",
    "df_grid_reg_dt.head()"
   ]
  },
  {
   "cell_type": "markdown",
   "metadata": {
    "id": "Wz9CizKZPFZj"
   },
   "source": [
    "#### SVM\n",
    "\n",
    "*Support Vector Machines* (SVM) é um algoritmo de Aprendizado Supervisionado\n",
    "que constrói hiperplanos para mapear vetores de entrada em espaços não lineares de alta dimensionalidade. Cada dimensão deste espaço corresponde a um atributo do conjunto de dados de entrada. Ele é bastante utilizado para problemas de Classificação, mas pode ser adaptado para problemas de Regressão. No *Scikit-learn*, para a tarefa de Regressão, ele é chamado de [*Support Vector Regression* (SVR)](https://scikit-learn.org/stable/modules/svm.html#regression). \n",
    "\n",
    "Após a construção dos hiperplanos com o SRV, a regressão é realizada através da busca de um hiperplano ótimo, ou seja, o que possui o melhor desempenho e apresenta a menor margem de erro.\n",
    "\n",
    "<center><img src=\"https://miro.medium.com/max/606/1*CgDvkD7OtXVhOScMpyMKsw.png\"/></center>\n",
    "\n",
    "Observe na figura acima que a linha vermelha representa o hiperplano *C* que possui o melhor *fit* e as linhas pretas representam a margem de erro, dada por ϵ. Na Regressão, o objetivo é achar o melhor valor para *C*. Na figura, *C* é igual a 6.13 e está fora da taxa de erro aceitável (ϵ=5). Este [*link*](https://towardsdatascience.com/an-introduction-to-support-vector-regression-svr-a3ebc1672c2) possui mais detalhes sobre o funcionamento do SVR.\n",
    "\n",
    "- **Combinações de hiperparâmetros utilizadas:**\n",
    "> - `kernel` = `['linear', 'poly', 'rbf', 'sigmoid']`\n",
    ">    - A principal função do `kernel` é transformar o espaço de entrada de baixa dimensão em um espaço de alta dimensão. Queremos testar se o nosso problema possui uma separação não linear, assim, além de considerarmos `linear` como `kernel`, também testamos as seguintes funções:\n",
    "    <center><img width=\"650\" src=\"https://miro.medium.com/max/1380/1*AFqQio7ZB91FZvFtuYAn-w.png\"/></center>\n",
    "> - `C` = `[0.1, 1, 10, 100, 1000, 3000]`\n",
    ">    - C é o parâmetro de penalidade, que representa o *error term*. Ele é o que informa à otimização do SVM a quantidade de erro suportável. Exemplos:\n",
    "      <center><img width=\"700\" src=\"https://miro.medium.com/max/1000/0*08KrYhXpVQdUXWrX\"/></center>\n",
    "> - `gamma` = `['scale', 'auto']`\n",
    ">    - Define até que ponto o cálculo da linha de separação pode influenciar. Quando o `gamma` é maior, os pontos próximos terão grande influência; um `gamma` baixo significa que pontos distantes também devem ser considerados para obter o limite de decisão.\n",
    ">    - `scale` e `auto` são as opções disponíveis no [*Scikit-learn*](https://scikit-learn.org/stable/modules/generated/sklearn.svm.SVR.html).\n",
    "    <center><img width=\"650\" src=\" https://miro.medium.com/max/1713/1*6HVomcqW7BWuZ2vvGOEptw.png\"/></center>\n",
    "\n",
    "Imagens retiradas deste [*link*](https://www.vebuso.com/2020/03/svm-hyperparameter-tuning-using-gridsearchcv/).\n",
    "        "
   ]
  },
  {
   "cell_type": "code",
   "execution_count": 19,
   "metadata": {
    "colab": {
     "base_uri": "https://localhost:8080/",
     "height": 376
    },
    "executionInfo": {
     "elapsed": 283,
     "status": "ok",
     "timestamp": 1626383752346,
     "user": {
      "displayName": "Vinicius Bernardo Gabriel UFC",
      "photoUrl": "",
      "userId": "06507825833297863155"
     },
     "user_tz": 180
    },
    "id": "gNyPZLEsc_JU",
    "outputId": "abd72bed-a8f8-4dcf-e934-76380a44a375"
   },
   "outputs": [
    {
     "name": "stdout",
     "output_type": "stream",
     "text": [
      "Quantidade de combinações possíveis dos modelos da grid = 48 modelos\n"
     ]
    },
    {
     "data": {
      "text/html": [
       "<div>\n",
       "<style scoped>\n",
       "    .dataframe tbody tr th:only-of-type {\n",
       "        vertical-align: middle;\n",
       "    }\n",
       "\n",
       "    .dataframe tbody tr th {\n",
       "        vertical-align: top;\n",
       "    }\n",
       "\n",
       "    .dataframe thead th {\n",
       "        text-align: right;\n",
       "    }\n",
       "</style>\n",
       "<table border=\"1\" class=\"dataframe\">\n",
       "  <thead>\n",
       "    <tr style=\"text-align: right;\">\n",
       "      <th></th>\n",
       "      <th>mean_test_root_mean_squared_error</th>\n",
       "      <th>mean_test_mean_squared_error</th>\n",
       "      <th>mean_test_mean_absolute_error</th>\n",
       "      <th>mean_test_r2_error</th>\n",
       "      <th>params</th>\n",
       "    </tr>\n",
       "  </thead>\n",
       "  <tbody>\n",
       "    <tr>\n",
       "      <th>0</th>\n",
       "      <td>2609.012698</td>\n",
       "      <td>6.811099e+06</td>\n",
       "      <td>1585.250893</td>\n",
       "      <td>0.667195</td>\n",
       "      <td>{'svr__C': 3000, 'svr__gamma': 'auto', 'svr__k...</td>\n",
       "    </tr>\n",
       "    <tr>\n",
       "      <th>1</th>\n",
       "      <td>2609.012699</td>\n",
       "      <td>6.811099e+06</td>\n",
       "      <td>1585.250895</td>\n",
       "      <td>0.667195</td>\n",
       "      <td>{'svr__C': 3000, 'svr__gamma': 'scale', 'svr__...</td>\n",
       "    </tr>\n",
       "    <tr>\n",
       "      <th>2</th>\n",
       "      <td>2636.477729</td>\n",
       "      <td>6.955315e+06</td>\n",
       "      <td>1596.230424</td>\n",
       "      <td>0.660155</td>\n",
       "      <td>{'svr__C': 1000, 'svr__gamma': 'auto', 'svr__k...</td>\n",
       "    </tr>\n",
       "    <tr>\n",
       "      <th>3</th>\n",
       "      <td>2636.477734</td>\n",
       "      <td>6.955315e+06</td>\n",
       "      <td>1596.230426</td>\n",
       "      <td>0.660155</td>\n",
       "      <td>{'svr__C': 1000, 'svr__gamma': 'scale', 'svr__...</td>\n",
       "    </tr>\n",
       "    <tr>\n",
       "      <th>4</th>\n",
       "      <td>2776.905863</td>\n",
       "      <td>7.724829e+06</td>\n",
       "      <td>1660.795420</td>\n",
       "      <td>0.622905</td>\n",
       "      <td>{'svr__C': 3000, 'svr__gamma': 'scale', 'svr__...</td>\n",
       "    </tr>\n",
       "    <tr>\n",
       "      <th>5</th>\n",
       "      <td>2776.905870</td>\n",
       "      <td>7.724829e+06</td>\n",
       "      <td>1660.795422</td>\n",
       "      <td>0.622905</td>\n",
       "      <td>{'svr__C': 3000, 'svr__gamma': 'auto', 'svr__k...</td>\n",
       "    </tr>\n",
       "    <tr>\n",
       "      <th>6</th>\n",
       "      <td>2816.031943</td>\n",
       "      <td>7.943858e+06</td>\n",
       "      <td>1685.499629</td>\n",
       "      <td>0.612226</td>\n",
       "      <td>{'svr__C': 1000, 'svr__gamma': 'auto', 'svr__k...</td>\n",
       "    </tr>\n",
       "    <tr>\n",
       "      <th>7</th>\n",
       "      <td>2816.031943</td>\n",
       "      <td>7.943858e+06</td>\n",
       "      <td>1685.499629</td>\n",
       "      <td>0.612226</td>\n",
       "      <td>{'svr__C': 1000, 'svr__gamma': 'scale', 'svr__...</td>\n",
       "    </tr>\n",
       "    <tr>\n",
       "      <th>8</th>\n",
       "      <td>2829.851545</td>\n",
       "      <td>8.015197e+06</td>\n",
       "      <td>1733.983271</td>\n",
       "      <td>0.608478</td>\n",
       "      <td>{'svr__C': 3000, 'svr__gamma': 'auto', 'svr__k...</td>\n",
       "    </tr>\n",
       "    <tr>\n",
       "      <th>9</th>\n",
       "      <td>2829.851545</td>\n",
       "      <td>8.015197e+06</td>\n",
       "      <td>1733.983271</td>\n",
       "      <td>0.608478</td>\n",
       "      <td>{'svr__C': 3000, 'svr__gamma': 'scale', 'svr__...</td>\n",
       "    </tr>\n",
       "  </tbody>\n",
       "</table>\n",
       "</div>"
      ],
      "text/plain": [
       "   mean_test_root_mean_squared_error  mean_test_mean_squared_error  \\\n",
       "0                        2609.012698                  6.811099e+06   \n",
       "1                        2609.012699                  6.811099e+06   \n",
       "2                        2636.477729                  6.955315e+06   \n",
       "3                        2636.477734                  6.955315e+06   \n",
       "4                        2776.905863                  7.724829e+06   \n",
       "5                        2776.905870                  7.724829e+06   \n",
       "6                        2816.031943                  7.943858e+06   \n",
       "7                        2816.031943                  7.943858e+06   \n",
       "8                        2829.851545                  8.015197e+06   \n",
       "9                        2829.851545                  8.015197e+06   \n",
       "\n",
       "   mean_test_mean_absolute_error  mean_test_r2_error  \\\n",
       "0                    1585.250893            0.667195   \n",
       "1                    1585.250895            0.667195   \n",
       "2                    1596.230424            0.660155   \n",
       "3                    1596.230426            0.660155   \n",
       "4                    1660.795420            0.622905   \n",
       "5                    1660.795422            0.622905   \n",
       "6                    1685.499629            0.612226   \n",
       "7                    1685.499629            0.612226   \n",
       "8                    1733.983271            0.608478   \n",
       "9                    1733.983271            0.608478   \n",
       "\n",
       "                                              params  \n",
       "0  {'svr__C': 3000, 'svr__gamma': 'auto', 'svr__k...  \n",
       "1  {'svr__C': 3000, 'svr__gamma': 'scale', 'svr__...  \n",
       "2  {'svr__C': 1000, 'svr__gamma': 'auto', 'svr__k...  \n",
       "3  {'svr__C': 1000, 'svr__gamma': 'scale', 'svr__...  \n",
       "4  {'svr__C': 3000, 'svr__gamma': 'scale', 'svr__...  \n",
       "5  {'svr__C': 3000, 'svr__gamma': 'auto', 'svr__k...  \n",
       "6  {'svr__C': 1000, 'svr__gamma': 'auto', 'svr__k...  \n",
       "7  {'svr__C': 1000, 'svr__gamma': 'scale', 'svr__...  \n",
       "8  {'svr__C': 3000, 'svr__gamma': 'auto', 'svr__k...  \n",
       "9  {'svr__C': 3000, 'svr__gamma': 'scale', 'svr__...  "
      ]
     },
     "execution_count": 19,
     "metadata": {},
     "output_type": "execute_result"
    }
   ],
   "source": [
    "df_grid_reg_svr = pd.read_csv(reg_grids_dir + '/svr.csv')\n",
    "print('Quantidade de combinações possíveis dos modelos da grid = {} modelos'.format(len(df_grid_reg_svr)))\n",
    "df_grid_reg_svr.head(10)"
   ]
  },
  {
   "cell_type": "markdown",
   "metadata": {
    "id": "gYPZZMBbLj8o"
   },
   "source": [
    "### Classificação\n",
    "\n",
    "Para a **tarefa de Classificação**, além dos modelos de Regressão Logística e KNN dados na disciplina, usaremos Árvores de Decisão (*Decision Tree*), *Naive Bayes* e *Support Vector Machines* (SVM). A justificava do porque usaremos esses modelos e os resultados das *Grids Search* estarão em suas respectivas seções.\n",
    "\n",
    "Em relação aos atributos e o valor alvo para predição, as colunas `city`, `area`, `rooms`, `bathroom`, `parking spaces`, `floor`, `animal` e `furniture` serão nosso *X*, enquanto que os nossos *y*'s serão as colunas `animal` e `furniture`.\n",
    "\n",
    "Nas *Grids Search* abaixo, os melhores modelos são os que estão presentes no índice 0 de cada *dataframe*."
   ]
  },
  {
   "cell_type": "code",
   "execution_count": 20,
   "metadata": {
    "colab": {
     "base_uri": "https://localhost:8080/"
    },
    "executionInfo": {
     "elapsed": 252,
     "status": "ok",
     "timestamp": 1626383805993,
     "user": {
      "displayName": "Vinicius Bernardo Gabriel UFC",
      "photoUrl": "",
      "userId": "06507825833297863155"
     },
     "user_tz": 180
    },
    "id": "zC1afFCOxI0x",
    "outputId": "3bf94ffc-6def-4daa-c280-77c71149a559"
   },
   "outputs": [
    {
     "name": "stdout",
     "output_type": "stream",
     "text": [
      "Colunas usadas no treino da Classificação = ['area', 'rooms', 'bathroom', 'parking spaces', 'floor', 'total (R$)', 'city_pos_0', 'city_pos_1', 'city_pos_2', 'city_pos_3', 'city_pos_4']\n",
      "Alvos da Classificação = ['furniture', 'animal']\n"
     ]
    }
   ],
   "source": [
    "# X = city, area, rooms, bathroom, parking spaces, floor e total (R$)\n",
    "# y (target) = furniture e animal\n",
    "CLASSIFICATION_LEARNING_COLUMNS = df.columns[:5].tolist() + df.columns[-6:].tolist()\n",
    "CLASSIFICATION_TARGET_COLUMN = [\"furniture\", \"animal\"]\n",
    "print(f\"Colunas usadas no treino da Classificação = {CLASSIFICATION_LEARNING_COLUMNS}\")\n",
    "print(f\"Alvos da Classificação = {CLASSIFICATION_TARGET_COLUMN}\")\n",
    "\n",
    "X_classif, y_classif = df[CLASSIFICATION_LEARNING_COLUMNS].values, df[CLASSIFICATION_TARGET_COLUMN].values "
   ]
  },
  {
   "cell_type": "markdown",
   "metadata": {
    "id": "BljzMFKDAlW-"
   },
   "source": [
    "### Atributo Animal"
   ]
  },
  {
   "cell_type": "code",
   "execution_count": 21,
   "metadata": {
    "colab": {
     "base_uri": "https://localhost:8080/"
    },
    "executionInfo": {
     "elapsed": 5097,
     "status": "ok",
     "timestamp": 1626383811891,
     "user": {
      "displayName": "Vinicius Bernardo Gabriel UFC",
      "photoUrl": "",
      "userId": "06507825833297863155"
     },
     "user_tz": 180
    },
    "id": "K3IWoY_CyPZe",
    "outputId": "691ca4f3-685d-48eb-92b9-052040a8647b"
   },
   "outputs": [
    {
     "data": {
      "text/plain": [
       "((8256, 12), (2064, 12), (8256,), (2064,))"
      ]
     },
     "execution_count": 21,
     "metadata": {},
     "output_type": "execute_result"
    }
   ],
   "source": [
    "X_animal = np.c_[X_classif, y_classif[:, 0]]\n",
    "y_animal = y_classif[:, 1]\n",
    "\n",
    "X_train_animal, X_test_animal, y_train_animal, y_test_animal = train_test_split(X_animal, \n",
    "                                                                                y_animal, \n",
    "                                                                                test_size=.2, \n",
    "                                                                                random_state=42,\n",
    "                                                                                stratify=y_animal) # Estratificando os dados\n",
    "\n",
    "# Salvando o conjunto de teste\n",
    "utils.save_sets(X_test_animal, y_test_animal, BASE_PATH + '/Dataset/test_set_classification_animal.json')\n",
    "\n",
    "X_train_animal.shape, X_test_animal.shape, y_train_animal.shape, y_test_animal.shape"
   ]
  },
  {
   "cell_type": "markdown",
   "metadata": {
    "id": "6ORLuPBve0CY"
   },
   "source": [
    "- **Distribuição das classes:**\n",
    "> Podemos ver no gráfico abaixo que a proporção das classes do conjunto de dados original foi preservada após a divisão em treino e teste. A este processo dá-se o nome de estratificação. Exemplo para a classe `accept`: 78% do conjunto de dados possui à classe `accept`, e após a estratificação o conjunto treino manteve os 78% e o conjunto de teste ficou com 71%, o que é um valor aproximado."
   ]
  },
  {
   "cell_type": "code",
   "execution_count": 22,
   "metadata": {
    "colab": {
     "base_uri": "https://localhost:8080/",
     "height": 727
    },
    "executionInfo": {
     "elapsed": 608,
     "status": "ok",
     "timestamp": 1626384179792,
     "user": {
      "displayName": "Vinicius Bernardo Gabriel UFC",
      "photoUrl": "",
      "userId": "06507825833297863155"
     },
     "user_tz": 180
    },
    "id": "FWjVnAXVEfqF",
    "outputId": "047595a9-8f1a-4f2b-8511-bca48b0800fb",
    "scrolled": true
   },
   "outputs": [
    {
     "data": {
      "image/png": "[encoded data removed]",
      "text/plain": [
       "<Figure size 864x864 with 1 Axes>"
      ]
     },
     "metadata": {},
     "output_type": "display_data"
    }
   ],
   "source": [
    "# Verificando a estratificação\n",
    "utils.plot_labels_distribution(\"Distribuição das classes após a estratificação\",\n",
    "                               y_animal,\n",
    "                               y_train_animal,\n",
    "                               y_test_animal,\n",
    "                               labels=[\"accept\", \"not accept\"])"
   ]
  },
  {
   "cell_type": "markdown",
   "metadata": {},
   "source": [
    "- **Métrica padrão:**\n",
    "\n",
    "> Usaremos o F1-score como critério para escolher o melhor modelo, já que ele é a média harmônica do Precision e Recall. Ele nos dá um valor de desempenho mais coerente do que a acurária, além de ser altamente utilizado em competições e artigos científicos."
   ]
  },
  {
   "cell_type": "code",
   "execution_count": 23,
   "metadata": {
    "id": "XVrvdpqTk4rt"
   },
   "outputs": [],
   "source": [
    "classif_score_metrics = {\n",
    "    'accuracy': make_scorer(accuracy_score), \n",
    "    'precision': make_scorer(precision_score),\n",
    "    'recall': make_scorer(recall_score),\n",
    "    'f1_score': make_scorer(f1_score),\n",
    "    'log_loss': make_scorer(log_loss, greater_is_better=False),\n",
    "}\n",
    "\n",
    "classif_best_criteria = 'f1_score'"
   ]
  },
  {
   "cell_type": "code",
   "execution_count": 24,
   "metadata": {
    "colab": {
     "base_uri": "https://localhost:8080/"
    },
    "executionInfo": {
     "elapsed": 242770,
     "status": "ok",
     "timestamp": 1626370639042,
     "user": {
      "displayName": "Bárbara Neves",
      "photoUrl": "https://lh3.googleusercontent.com/a-/AOh14GjAp_nU12lRGDLonAU6k8sURhdo84aDrahKT5_BTA=s64",
      "userId": "02067111595078707861"
     },
     "user_tz": 180
    },
    "id": "PUF2W9M4btoi",
    "outputId": "a48fd344-87d2-4eda-9256-d6a0841354d7"
   },
   "outputs": [
    {
     "name": "stdout",
     "output_type": "stream",
     "text": [
      "[DONE] Treino e geração da GridSearch do modelo Regressão Logística --> 9.898905992507935 segundos\n",
      "[DONE] Treino e geração da GridSearch do modelo KNN para Classificação --> 93.2746696472168 segundos\n",
      "[DONE] Treino e geração da GridSearch do modelo Árvore de Decisão para Classificação --> 0.39644789695739746 segundos\n",
      "[DONE] Treino e geração da GridSearch do modelo Naive Bayes para Classificação --> 0.25806689262390137 segundos\n",
      "[DONE] Treino e geração da GridSearch do modelo SVM para Classificação --> 139.0799150466919 segundos\n",
      "\n",
      "Salvando os resultados das grids search de cada modelo...\n",
      "Salvando os melhores modelos...\n"
     ]
    },
    {
     "data": {
      "text/plain": [
       "{'animal_logistic_regression': Pipeline(steps=[('scaler', StandardScaler()),\n",
       "                 ('LR',\n",
       "                  LogisticRegression(C=0.001, penalty='none',\n",
       "                                     solver='newton-cg'))]),\n",
       " 'animal_knn': Pipeline(steps=[('scaler', StandardScaler()),\n",
       "                 ('KNN',\n",
       "                  KNeighborsClassifier(metric='euclidean', n_neighbors=45))]),\n",
       " 'animal_decision_tree': DecisionTreeClassifier(),\n",
       " 'animal_naive_bayes': GaussianNB(var_smoothing=1e-07),\n",
       " 'animal_svc': Pipeline(steps=[('scaler', StandardScaler()),\n",
       "                 ('SVC',\n",
       "                  BaggingClassifier(base_estimator=SVC(C=10, gamma='auto'),\n",
       "                                    max_samples=0.06666666666666667,\n",
       "                                    n_estimators=15))])}"
      ]
     },
     "execution_count": 24,
     "metadata": {},
     "output_type": "execute_result"
    }
   ],
   "source": [
    "label_animal = 'animal'\n",
    "classif_animal_models_dir = MODELS_BASE_DIR + \"/Classification/Animal\"\n",
    "classif_animal_grids_dir = GRIDS_BASE_DIR + \"/Classification/Animal\" \n",
    "classif_cv = StratifiedKFold(n_splits=3, shuffle=True, random_state=42)\n",
    "\n",
    "# Criação das Grids Search e seleção dos melhores modelos de acordo com o F1\n",
    "best_classification_animal_models = models.train_classification_models(needs_to_train=True, # Carrega os modelos treinados\n",
    "                                                                       models_path=classif_animal_models_dir,\n",
    "                                                                       X_train=X_train_animal, \n",
    "                                                                       y_train=y_train_animal, \n",
    "                                                                       score_metrics=classif_score_metrics, \n",
    "                                                                       cv=classif_cv, \n",
    "                                                                       best_criteria=classif_best_criteria, \n",
    "                                                                       grids_path=classif_animal_grids_dir, \n",
    "                                                                       label=label_animal)\n",
    "best_classification_animal_models"
   ]
  },
  {
   "cell_type": "markdown",
   "metadata": {
    "id": "3lc4S34j3vKp"
   },
   "source": [
    "#### Regressão Logística\n",
    "\n",
    "- **Combinações de hiperparâmetros utilizadas:**\n",
    "> - `solver` = `['newton-cg', 'lbfgs', 'liblinear', 'sg', 'saga']`\n",
    ">    - O `solver` seleciona o algoritmo que pode ser usado para a otimização do problema, isto é, ele é usado para minimizar a função de custo de forma que seja obtido o melhor resultado. Escolhemos para a *grid* todos os algoritmos disponíveis pelo [*Scikit-learn*](https://scikit-learn.org/stable/modules/generated/sklearn.linear_model.LogisticRegression.html). Uma explicação mais detalhada destes algoritmos pode ser encontrada neste [*link*](https://stackoverflow.com/questions/38640109/logistic-regression-python-solvers-definitions).\n",
    "> - `penalty` = `['none', 'l1', 'l2', 'elasticnet']`\n",
    ">    - Parâmetro que especifica a norma usada na regularização. Resumidamente, a regularização é aplicada como forma de penalidade ao aumento da magnitude dos valores dos parâmetros, a fim de reduzir o *overfitting*. A norma utilizada para regularização é importante pois ela diminui os pesos associados às características (os *X*'s) que influenciam menos no resultado. Também usaremos todas as disponíveis pelo *Scikit-learn*.\n",
    "> - `C` = `[0.001, .009, 0.01, .09, 1, 5, 10, 25, 100, 250]`\n",
    ">    - Como forma de minimizar o erro, o *C* é adicionado ao que está sendo minimizado, como também minimiza a norma da regularização para penalizar grandes valores dos parâmetros. Usar o *C* também evita que o modelo possua muitos parâmetros (muitas variáveis ​​independentes), mas poucos dados.\n",
    ">    - Basicamente, escolhemos valores grandes e pequenos para o *C*. Um valor grande dá mais liberdade para o modelo na geração de grandes parâmetros, enquanto que um valor pequeno restringe esta característica."
   ]
  },
  {
   "cell_type": "code",
   "execution_count": 25,
   "metadata": {
    "colab": {
     "base_uri": "https://localhost:8080/",
     "height": 221
    },
    "executionInfo": {
     "elapsed": 96,
     "status": "ok",
     "timestamp": 1626370639046,
     "user": {
      "displayName": "Bárbara Neves",
      "photoUrl": "https://lh3.googleusercontent.com/a-/AOh14GjAp_nU12lRGDLonAU6k8sURhdo84aDrahKT5_BTA=s64",
      "userId": "02067111595078707861"
     },
     "user_tz": 180
    },
    "id": "CDbpKlGy4eWt",
    "outputId": "c20cc9d7-2eac-4df0-8ce1-09dd84480a06"
   },
   "outputs": [
    {
     "name": "stdout",
     "output_type": "stream",
     "text": [
      "Quantidade de combinações possíveis dos modelos da grid = 90 modelos\n"
     ]
    },
    {
     "data": {
      "text/html": [
       "<div>\n",
       "<style scoped>\n",
       "    .dataframe tbody tr th:only-of-type {\n",
       "        vertical-align: middle;\n",
       "    }\n",
       "\n",
       "    .dataframe tbody tr th {\n",
       "        vertical-align: top;\n",
       "    }\n",
       "\n",
       "    .dataframe thead th {\n",
       "        text-align: right;\n",
       "    }\n",
       "</style>\n",
       "<table border=\"1\" class=\"dataframe\">\n",
       "  <thead>\n",
       "    <tr style=\"text-align: right;\">\n",
       "      <th></th>\n",
       "      <th>mean_test_accuracy</th>\n",
       "      <th>mean_test_precision</th>\n",
       "      <th>mean_test_recall</th>\n",
       "      <th>mean_test_f1_score</th>\n",
       "      <th>mean_test_log_loss</th>\n",
       "      <th>params</th>\n",
       "    </tr>\n",
       "  </thead>\n",
       "  <tbody>\n",
       "    <tr>\n",
       "      <th>0</th>\n",
       "      <td>0.782703</td>\n",
       "      <td>0.782482</td>\n",
       "      <td>0.999845</td>\n",
       "      <td>0.877909</td>\n",
       "      <td>-7.505329</td>\n",
       "      <td>{'LR__C': 0.001, 'LR__penalty': 'none', 'LR__s...</td>\n",
       "    </tr>\n",
       "    <tr>\n",
       "      <th>1</th>\n",
       "      <td>0.782703</td>\n",
       "      <td>0.782482</td>\n",
       "      <td>0.999845</td>\n",
       "      <td>0.877909</td>\n",
       "      <td>-7.505329</td>\n",
       "      <td>{'LR__C': 1, 'LR__penalty': 'l1', 'LR__solver'...</td>\n",
       "    </tr>\n",
       "    <tr>\n",
       "      <th>2</th>\n",
       "      <td>0.782703</td>\n",
       "      <td>0.782482</td>\n",
       "      <td>0.999845</td>\n",
       "      <td>0.877909</td>\n",
       "      <td>-7.505329</td>\n",
       "      <td>{'LR__C': 25, 'LR__penalty': 'l1', 'LR__solver...</td>\n",
       "    </tr>\n",
       "    <tr>\n",
       "      <th>3</th>\n",
       "      <td>0.782703</td>\n",
       "      <td>0.782482</td>\n",
       "      <td>0.999845</td>\n",
       "      <td>0.877909</td>\n",
       "      <td>-7.505329</td>\n",
       "      <td>{'LR__C': 1, 'LR__penalty': 'l1', 'LR__solver'...</td>\n",
       "    </tr>\n",
       "    <tr>\n",
       "      <th>4</th>\n",
       "      <td>0.782703</td>\n",
       "      <td>0.782482</td>\n",
       "      <td>0.999845</td>\n",
       "      <td>0.877909</td>\n",
       "      <td>-7.505329</td>\n",
       "      <td>{'LR__C': 25, 'LR__penalty': 'l2', 'LR__solver...</td>\n",
       "    </tr>\n",
       "  </tbody>\n",
       "</table>\n",
       "</div>"
      ],
      "text/plain": [
       "   mean_test_accuracy  mean_test_precision  mean_test_recall  \\\n",
       "0            0.782703             0.782482          0.999845   \n",
       "1            0.782703             0.782482          0.999845   \n",
       "2            0.782703             0.782482          0.999845   \n",
       "3            0.782703             0.782482          0.999845   \n",
       "4            0.782703             0.782482          0.999845   \n",
       "\n",
       "   mean_test_f1_score  mean_test_log_loss  \\\n",
       "0            0.877909           -7.505329   \n",
       "1            0.877909           -7.505329   \n",
       "2            0.877909           -7.505329   \n",
       "3            0.877909           -7.505329   \n",
       "4            0.877909           -7.505329   \n",
       "\n",
       "                                              params  \n",
       "0  {'LR__C': 0.001, 'LR__penalty': 'none', 'LR__s...  \n",
       "1  {'LR__C': 1, 'LR__penalty': 'l1', 'LR__solver'...  \n",
       "2  {'LR__C': 25, 'LR__penalty': 'l1', 'LR__solver...  \n",
       "3  {'LR__C': 1, 'LR__penalty': 'l1', 'LR__solver'...  \n",
       "4  {'LR__C': 25, 'LR__penalty': 'l2', 'LR__solver...  "
      ]
     },
     "execution_count": 25,
     "metadata": {},
     "output_type": "execute_result"
    }
   ],
   "source": [
    "df_grid_logreg_animal = pd.read_csv(classif_animal_grids_dir + '/' + label_animal + '_logistic_regression.csv')\n",
    "# Dropando os valores NaN. Para fazermos todas as combinações possíveis, dependendendo dos parâmetros, alguns modelos falham ao realizar o fit\n",
    "  # Por exemplo: o solver lbfgs não consegue lidar com as penalties L1 ou ElasticNet\n",
    "df_grid_logreg_animal.dropna(inplace=True)\n",
    "print('Quantidade de combinações possíveis dos modelos da grid = {} modelos'.format(len(df_grid_logreg_animal)))\n",
    "df_grid_logreg_animal.head()"
   ]
  },
  {
   "cell_type": "markdown",
   "metadata": {
    "id": "53v_OK4f32Nr"
   },
   "source": [
    "#### KNN\n",
    "\n",
    "As **combinações de hiperparâmetros** utilizadas se tratam das mesmas que foram escolhidas para na tarefa de Regressão."
   ]
  },
  {
   "cell_type": "code",
   "execution_count": 26,
   "metadata": {
    "colab": {
     "base_uri": "https://localhost:8080/",
     "height": 221
    },
    "executionInfo": {
     "elapsed": 77,
     "status": "ok",
     "timestamp": 1626370639048,
     "user": {
      "displayName": "Bárbara Neves",
      "photoUrl": "https://lh3.googleusercontent.com/a-/AOh14GjAp_nU12lRGDLonAU6k8sURhdo84aDrahKT5_BTA=s64",
      "userId": "02067111595078707861"
     },
     "user_tz": 180
    },
    "id": "KN4qi9Fv4uCP",
    "outputId": "26808ce3-b90d-4af7-83e0-60bdaba0bee9"
   },
   "outputs": [
    {
     "name": "stdout",
     "output_type": "stream",
     "text": [
      "Quantidade de combinações possíveis dos modelos da grid = 60 modelos\n"
     ]
    },
    {
     "data": {
      "text/html": [
       "<div>\n",
       "<style scoped>\n",
       "    .dataframe tbody tr th:only-of-type {\n",
       "        vertical-align: middle;\n",
       "    }\n",
       "\n",
       "    .dataframe tbody tr th {\n",
       "        vertical-align: top;\n",
       "    }\n",
       "\n",
       "    .dataframe thead th {\n",
       "        text-align: right;\n",
       "    }\n",
       "</style>\n",
       "<table border=\"1\" class=\"dataframe\">\n",
       "  <thead>\n",
       "    <tr style=\"text-align: right;\">\n",
       "      <th></th>\n",
       "      <th>mean_test_accuracy</th>\n",
       "      <th>mean_test_precision</th>\n",
       "      <th>mean_test_recall</th>\n",
       "      <th>mean_test_f1_score</th>\n",
       "      <th>mean_test_log_loss</th>\n",
       "      <th>params</th>\n",
       "    </tr>\n",
       "  </thead>\n",
       "  <tbody>\n",
       "    <tr>\n",
       "      <th>0</th>\n",
       "      <td>0.788154</td>\n",
       "      <td>0.798958</td>\n",
       "      <td>0.973957</td>\n",
       "      <td>0.877819</td>\n",
       "      <td>-7.317052</td>\n",
       "      <td>{'KNN__metric': 'euclidean', 'KNN__n_neighbors...</td>\n",
       "    </tr>\n",
       "    <tr>\n",
       "      <th>1</th>\n",
       "      <td>0.788639</td>\n",
       "      <td>0.802362</td>\n",
       "      <td>0.967911</td>\n",
       "      <td>0.877392</td>\n",
       "      <td>-7.300314</td>\n",
       "      <td>{'KNN__metric': 'manhattan', 'KNN__n_neighbors...</td>\n",
       "    </tr>\n",
       "    <tr>\n",
       "      <th>2</th>\n",
       "      <td>0.787912</td>\n",
       "      <td>0.800125</td>\n",
       "      <td>0.971167</td>\n",
       "      <td>0.877385</td>\n",
       "      <td>-7.325418</td>\n",
       "      <td>{'KNN__metric': 'manhattan', 'KNN__n_neighbors...</td>\n",
       "    </tr>\n",
       "    <tr>\n",
       "      <th>3</th>\n",
       "      <td>0.788639</td>\n",
       "      <td>0.802444</td>\n",
       "      <td>0.967756</td>\n",
       "      <td>0.877378</td>\n",
       "      <td>-7.300314</td>\n",
       "      <td>{'KNN__metric': 'manhattan', 'KNN__n_neighbors...</td>\n",
       "    </tr>\n",
       "    <tr>\n",
       "      <th>4</th>\n",
       "      <td>0.787427</td>\n",
       "      <td>0.799412</td>\n",
       "      <td>0.971787</td>\n",
       "      <td>0.877208</td>\n",
       "      <td>-7.342152</td>\n",
       "      <td>{'KNN__metric': 'euclidean', 'KNN__n_neighbors...</td>\n",
       "    </tr>\n",
       "  </tbody>\n",
       "</table>\n",
       "</div>"
      ],
      "text/plain": [
       "   mean_test_accuracy  mean_test_precision  mean_test_recall  \\\n",
       "0            0.788154             0.798958          0.973957   \n",
       "1            0.788639             0.802362          0.967911   \n",
       "2            0.787912             0.800125          0.971167   \n",
       "3            0.788639             0.802444          0.967756   \n",
       "4            0.787427             0.799412          0.971787   \n",
       "\n",
       "   mean_test_f1_score  mean_test_log_loss  \\\n",
       "0            0.877819           -7.317052   \n",
       "1            0.877392           -7.300314   \n",
       "2            0.877385           -7.325418   \n",
       "3            0.877378           -7.300314   \n",
       "4            0.877208           -7.342152   \n",
       "\n",
       "                                              params  \n",
       "0  {'KNN__metric': 'euclidean', 'KNN__n_neighbors...  \n",
       "1  {'KNN__metric': 'manhattan', 'KNN__n_neighbors...  \n",
       "2  {'KNN__metric': 'manhattan', 'KNN__n_neighbors...  \n",
       "3  {'KNN__metric': 'manhattan', 'KNN__n_neighbors...  \n",
       "4  {'KNN__metric': 'euclidean', 'KNN__n_neighbors...  "
      ]
     },
     "execution_count": 26,
     "metadata": {},
     "output_type": "execute_result"
    }
   ],
   "source": [
    "df_grid_knn_animal = pd.read_csv(classif_animal_grids_dir + '/' + label_animal + '_knn.csv')\n",
    "print('Quantidade de combinações possíveis dos modelos da grid = {} modelos'.format(len(df_grid_knn_animal)))\n",
    "df_grid_knn_animal.head()"
   ]
  },
  {
   "cell_type": "markdown",
   "metadata": {
    "id": "-NOIo3_r4RCT"
   },
   "source": [
    "#### Árvores de Decisão\n",
    "\n",
    "A explicação para Árvore de Decisão dada na Regressão também vale para a tarefa de Classificação, mas com duas diferenças principais, que podem ser notadas na figura abaixo.\n",
    "\n",
    "<center>\n",
    "  <img width=\"450\" src=\"https://www.researchgate.net/profile/Nick-Bassiliades/publication/337413360/figure/fig2/AS:827514800836608@1574306311071/A-simple-decision-tree-classifier-with-4-features.ppm\" />\n",
    "</center>\n",
    "\n",
    "1. A árvore divide o conjunto de dados com base na homogeneidade dos dados. \n",
    "2. As medidas de impureza, diferentemente das métricas para a Regressão, são usadas para quantificar a homogeneidade dos dados quando se trata de árvores para Classificação.\n",
    "\n",
    "- **Combinações de hiperparâmetros utilizadas:**\n",
    "> - `criterion` = `['gini', 'entropy']`\n",
    ">    - Mede a qualidade de como os nós da árvore podem ser divididos. Os critérios suportados pelo [*Scikit-learn*](https://scikit-learn.org/stable/modules/generated/sklearn.tree.DecisionTreeClassifier.html) são `gini` para a impureza de Gini e `entropy` para o ganho de informação.\n",
    "> - `splitter` = `['best', 'random']`\n",
    ">    - O `splitter` indica a estratégia usada para escolher a divisão em cada nó da árvore. As estratégias disponíveis pelo *Scikit-learn* são `best`, que escolhe a melhor divisão, e `random`, que escolhe a melhor divisão aleatoriamente."
   ]
  },
  {
   "cell_type": "code",
   "execution_count": 27,
   "metadata": {
    "colab": {
     "base_uri": "https://localhost:8080/",
     "height": 190
    },
    "executionInfo": {
     "elapsed": 67,
     "status": "ok",
     "timestamp": 1626370639052,
     "user": {
      "displayName": "Bárbara Neves",
      "photoUrl": "https://lh3.googleusercontent.com/a-/AOh14GjAp_nU12lRGDLonAU6k8sURhdo84aDrahKT5_BTA=s64",
      "userId": "02067111595078707861"
     },
     "user_tz": 180
    },
    "id": "tXHqgg7S40gv",
    "outputId": "df0916d9-48ff-4118-ed61-823c0b0a04b5"
   },
   "outputs": [
    {
     "name": "stdout",
     "output_type": "stream",
     "text": [
      "Quantidade de combinações possíveis dos modelos da grid = 4 modelos\n"
     ]
    },
    {
     "data": {
      "text/html": [
       "<div>\n",
       "<style scoped>\n",
       "    .dataframe tbody tr th:only-of-type {\n",
       "        vertical-align: middle;\n",
       "    }\n",
       "\n",
       "    .dataframe tbody tr th {\n",
       "        vertical-align: top;\n",
       "    }\n",
       "\n",
       "    .dataframe thead th {\n",
       "        text-align: right;\n",
       "    }\n",
       "</style>\n",
       "<table border=\"1\" class=\"dataframe\">\n",
       "  <thead>\n",
       "    <tr style=\"text-align: right;\">\n",
       "      <th></th>\n",
       "      <th>mean_test_accuracy</th>\n",
       "      <th>mean_test_precision</th>\n",
       "      <th>mean_test_recall</th>\n",
       "      <th>mean_test_f1_score</th>\n",
       "      <th>mean_test_log_loss</th>\n",
       "      <th>params</th>\n",
       "    </tr>\n",
       "  </thead>\n",
       "  <tbody>\n",
       "    <tr>\n",
       "      <th>0</th>\n",
       "      <td>0.694767</td>\n",
       "      <td>0.807753</td>\n",
       "      <td>0.799720</td>\n",
       "      <td>0.803696</td>\n",
       "      <td>-10.542478</td>\n",
       "      <td>{'criterion': 'gini', 'splitter': 'best'}</td>\n",
       "    </tr>\n",
       "    <tr>\n",
       "      <th>1</th>\n",
       "      <td>0.688227</td>\n",
       "      <td>0.806197</td>\n",
       "      <td>0.791194</td>\n",
       "      <td>0.798608</td>\n",
       "      <td>-10.768386</td>\n",
       "      <td>{'criterion': 'entropy', 'splitter': 'best'}</td>\n",
       "    </tr>\n",
       "    <tr>\n",
       "      <th>2</th>\n",
       "      <td>0.685925</td>\n",
       "      <td>0.804850</td>\n",
       "      <td>0.789490</td>\n",
       "      <td>0.797094</td>\n",
       "      <td>-10.847872</td>\n",
       "      <td>{'criterion': 'gini', 'splitter': 'random'}</td>\n",
       "    </tr>\n",
       "    <tr>\n",
       "      <th>3</th>\n",
       "      <td>0.678173</td>\n",
       "      <td>0.800406</td>\n",
       "      <td>0.783442</td>\n",
       "      <td>0.791784</td>\n",
       "      <td>-11.115617</td>\n",
       "      <td>{'criterion': 'entropy', 'splitter': 'random'}</td>\n",
       "    </tr>\n",
       "  </tbody>\n",
       "</table>\n",
       "</div>"
      ],
      "text/plain": [
       "   mean_test_accuracy  mean_test_precision  mean_test_recall  \\\n",
       "0            0.694767             0.807753          0.799720   \n",
       "1            0.688227             0.806197          0.791194   \n",
       "2            0.685925             0.804850          0.789490   \n",
       "3            0.678173             0.800406          0.783442   \n",
       "\n",
       "   mean_test_f1_score  mean_test_log_loss  \\\n",
       "0            0.803696          -10.542478   \n",
       "1            0.798608          -10.768386   \n",
       "2            0.797094          -10.847872   \n",
       "3            0.791784          -11.115617   \n",
       "\n",
       "                                           params  \n",
       "0       {'criterion': 'gini', 'splitter': 'best'}  \n",
       "1    {'criterion': 'entropy', 'splitter': 'best'}  \n",
       "2     {'criterion': 'gini', 'splitter': 'random'}  \n",
       "3  {'criterion': 'entropy', 'splitter': 'random'}  "
      ]
     },
     "execution_count": 27,
     "metadata": {},
     "output_type": "execute_result"
    }
   ],
   "source": [
    "df_grid_dt_animal = pd.read_csv(classif_animal_grids_dir + '/' + label_animal + '_decision_tree.csv')\n",
    "print('Quantidade de combinações possíveis dos modelos da grid = {} modelos'.format(len(df_grid_dt_animal)))\n",
    "df_grid_dt_animal.head()"
   ]
  },
  {
   "cell_type": "markdown",
   "metadata": {
    "id": "mS8ulPaM3yeU"
   },
   "source": [
    "#### Naive Bayes\n",
    "\n",
    "*Naive Bayes* faz parte de um conjunto de classificadores bayesianos cujo o propósito é predizer a probabilidade de um padrão pertencer a cada uma das classes. Enquanto modelos discriminantes, como a Regressão Logística, aprendem diretamente a distribuição $p(y_i|\\pmb{x_i})$, os modelos generativos modelam a distribuição das entradas associadas a cada classe. \n",
    "\n",
    "No caso dos classificadores bayesianos, estes consideram um modelo para $p(\\pmb{x_i}|y_i)$, definem uma *priori* para $p(y_i)$ e aplicam a regra de *Bayes* para obter $p(y_i|\\pmb{x_i})$. A *priori* pode ser escolhida tanto pela proporção dos dados de cada classe no conjunto de treino, quanto por um conhecimento prévio de um especialista do domínio.\n",
    "\n",
    "A sua fórmula geral é:\n",
    "\n",
    "<h4 align=\"center\">\n",
    "  $ p(C_k|x) = \\frac{p(x|C_k)p(C_k)}{p(\\pmb{x})}, k \\in \\{1, ..., k\\} \\textrm{,} $\n",
    "</h4>\n",
    "\n",
    "sendo $k$ o número de classes. Tendo a probabilidade de cada classe em mãos, basta escolher a com maior valor. \n",
    "\n",
    "No caso do *Naive Bayes* Gaussiano, aplicado aqui, a probabilidade $p(\\pmb{x_i}|y_i)$ citada acima é modelada por uma distribuição normal (ou gaussiana) onde a matriz de covariância é uma matriz diagonal contendo apenas a variância de cada classe. Como os demais valores além da diagonal são zero, cada atributo é considerado independente dos outros dadas suas classes, simplificando a generalização do modelo. Daí o termo \"*naive*\".\n",
    "\n",
    "Os limites de decisão são elipses, devido à natureza gaussiana, porém não inclinadas, o que só ocorreria caso a correlação entre as dimensões fosse diferente de zero.\n",
    "\n",
    "<center>\n",
    "<img width=\"500\" src=\"https://jakevdp.github.io/PythonDataScienceHandbook/figures/05.05-gaussian-NB.png\" />\n",
    "</center>\n",
    "\n",
    "- **Combinações de hiperparâmetros utilizadas:**\n",
    "> - `var_smoothing` = `[1e-7, 1e-8, 1e-9, 1e-10, 1e-11]` \n",
    ">    - Em uma distribuição gaussiana, padrões mais próximos da média são ponderados de forma mais significativa do que os mais distantes. O parâmetro `var_smoothing` adiciona um valor artifical à distribuição da variância, tornando o limite de decisão mais \"suaves\" e, assim, aceitando mais padrões. No caso, variamos um pouco acima e abaixo do valor padrão."
   ]
  },
  {
   "cell_type": "code",
   "execution_count": 28,
   "metadata": {
    "colab": {
     "base_uri": "https://localhost:8080/",
     "height": 221
    },
    "executionInfo": {
     "elapsed": 59,
     "status": "ok",
     "timestamp": 1626370639053,
     "user": {
      "displayName": "Bárbara Neves",
      "photoUrl": "https://lh3.googleusercontent.com/a-/AOh14GjAp_nU12lRGDLonAU6k8sURhdo84aDrahKT5_BTA=s64",
      "userId": "02067111595078707861"
     },
     "user_tz": 180
    },
    "id": "Csy8BxtG427Q",
    "outputId": "07cae267-7db6-4303-a2ff-292dbbfd6a0e"
   },
   "outputs": [
    {
     "name": "stdout",
     "output_type": "stream",
     "text": [
      "Quantidade de combinações possíveis dos modelos da grid = 5 modelos\n"
     ]
    },
    {
     "data": {
      "text/html": [
       "<div>\n",
       "<style scoped>\n",
       "    .dataframe tbody tr th:only-of-type {\n",
       "        vertical-align: middle;\n",
       "    }\n",
       "\n",
       "    .dataframe tbody tr th {\n",
       "        vertical-align: top;\n",
       "    }\n",
       "\n",
       "    .dataframe thead th {\n",
       "        text-align: right;\n",
       "    }\n",
       "</style>\n",
       "<table border=\"1\" class=\"dataframe\">\n",
       "  <thead>\n",
       "    <tr style=\"text-align: right;\">\n",
       "      <th></th>\n",
       "      <th>mean_test_accuracy</th>\n",
       "      <th>mean_test_precision</th>\n",
       "      <th>mean_test_recall</th>\n",
       "      <th>mean_test_f1_score</th>\n",
       "      <th>mean_test_log_loss</th>\n",
       "      <th>params</th>\n",
       "    </tr>\n",
       "  </thead>\n",
       "  <tbody>\n",
       "    <tr>\n",
       "      <th>0</th>\n",
       "      <td>0.775921</td>\n",
       "      <td>0.783348</td>\n",
       "      <td>0.985894</td>\n",
       "      <td>0.873024</td>\n",
       "      <td>-7.739601</td>\n",
       "      <td>{'var_smoothing': 1e-07}</td>\n",
       "    </tr>\n",
       "    <tr>\n",
       "      <th>1</th>\n",
       "      <td>0.752301</td>\n",
       "      <td>0.820122</td>\n",
       "      <td>0.874903</td>\n",
       "      <td>0.846584</td>\n",
       "      <td>-8.555328</td>\n",
       "      <td>{'var_smoothing': 1e-08}</td>\n",
       "    </tr>\n",
       "    <tr>\n",
       "      <th>2</th>\n",
       "      <td>0.724685</td>\n",
       "      <td>0.827126</td>\n",
       "      <td>0.818789</td>\n",
       "      <td>0.822909</td>\n",
       "      <td>-9.509147</td>\n",
       "      <td>{'var_smoothing': 1e-09}</td>\n",
       "    </tr>\n",
       "    <tr>\n",
       "      <th>3</th>\n",
       "      <td>0.713542</td>\n",
       "      <td>0.829112</td>\n",
       "      <td>0.797861</td>\n",
       "      <td>0.813112</td>\n",
       "      <td>-9.894023</td>\n",
       "      <td>{'var_smoothing': 1e-10}</td>\n",
       "    </tr>\n",
       "    <tr>\n",
       "      <th>4</th>\n",
       "      <td>0.712088</td>\n",
       "      <td>0.829532</td>\n",
       "      <td>0.794916</td>\n",
       "      <td>0.811777</td>\n",
       "      <td>-9.944224</td>\n",
       "      <td>{'var_smoothing': 1e-11}</td>\n",
       "    </tr>\n",
       "  </tbody>\n",
       "</table>\n",
       "</div>"
      ],
      "text/plain": [
       "   mean_test_accuracy  mean_test_precision  mean_test_recall  \\\n",
       "0            0.775921             0.783348          0.985894   \n",
       "1            0.752301             0.820122          0.874903   \n",
       "2            0.724685             0.827126          0.818789   \n",
       "3            0.713542             0.829112          0.797861   \n",
       "4            0.712088             0.829532          0.794916   \n",
       "\n",
       "   mean_test_f1_score  mean_test_log_loss                    params  \n",
       "0            0.873024           -7.739601  {'var_smoothing': 1e-07}  \n",
       "1            0.846584           -8.555328  {'var_smoothing': 1e-08}  \n",
       "2            0.822909           -9.509147  {'var_smoothing': 1e-09}  \n",
       "3            0.813112           -9.894023  {'var_smoothing': 1e-10}  \n",
       "4            0.811777           -9.944224  {'var_smoothing': 1e-11}  "
      ]
     },
     "execution_count": 28,
     "metadata": {},
     "output_type": "execute_result"
    }
   ],
   "source": [
    "df_grid_nb_animal = pd.read_csv(classif_animal_grids_dir + '/' + label_animal + '_naive_bayes.csv')\n",
    "print('Quantidade de combinações possíveis dos modelos da grid = {} modelos'.format(len(df_grid_nb_animal)))\n",
    "df_grid_nb_animal.head()"
   ]
  },
  {
   "cell_type": "markdown",
   "metadata": {
    "id": "5BXSCNRn4CF9"
   },
   "source": [
    "#### SVM\n",
    "\n",
    "Como explicado anteriormente na seção da tarefa de Regressão, o SVM é mais utilizado para problemas de Classificação. No *Scikit-learn*, ele é chamado de [*Support Vector Classification* (SVC)](https://scikit-learn.org/stable/modules/svm.html#classification).\n",
    "\n",
    "Após a construção dos hiperplanos com o SVC, a classificação é realizada através da busca de um hiperplano ótimo, ou seja, o que possui o melhor desempenho e apresenta a maior margem de separação para diferenciar as classes de entrada. \n",
    "\n",
    "<center><img src=\"https://blogdozouza.files.wordpress.com/2019/04/svm_4.png\"/></center>\n",
    "\n",
    "A figura acima ilustra o funcionamento de um classificador criado com o SVM, cujo melhor hiperplano é C. Observe que esse hiperplano apresenta a maior margem de separação entre as classes. Neste [*link*](https://blogdozouza.wordpress.com/2019/04/10/algoritmo-svm-maquina-de-vetores-de-suporte-a-partir-de-exemplos-e-codigo-python-e-r/) é possível encontrar mais detalhes sobre o funcionamento do SVC.\n",
    "\n",
    "As **combinações de hiperparâmetros** utilizadas se tratam das mesmas que foram escolhidas para a tarefa de Regressão. Com destaque apenas para o hiperparâmetro `C` que neste caso usamos `C = [0.1, 1, 10, 100]`. Na classificação, a penalidade é dada para uma classificação errada. O `C` informa à otimização do SVM a quantidade de erro suportável.\n",
    "\n",
    "Além disso, devido à alta duração do processo de treino, resolvemos aplicar uma estratégia *ensemble* (comitês de modelos) denominada ***Bagging Classifier***. Essa estratégia se baseia no treino de um conjunto de modelos para subconjuntos aleatórios do *dataset* de treino original. Com isso, o tempo total de custo é diminuído significativamente pois, além de cada treinamento dos subconjuntos poder ser paralelizado, cada modelo tem acesso a uma parcela bem menor dos dados. Tendo em mãos os **n** modelos treinados, a predição final, no caso da classificação, é obtida por um processo de votação. O novo padrão a ser predito é aplicado à cada um dos **n** modelos e a classe final dada como resposta é a que tiver sido “votada” por mais modelos. Como há, por padrão, amostras obtidas com reposição em cada subconjunto de dados, dá-se o nome de *Bagging*.\n",
    "\n",
    "- **Hiperparâmetros para o *Bagging Classifier***:\n",
    "> - `n_estimators`= `15`.\n",
    ">    - Número de modelos a serem treinados. Consideramos 15 um número cujo tanto o tempo de treinamento quanto as métricas de avaliação demonstraram-se boas.\n",
    "> - `max_samples` = `1/15`\n",
    ">    - Porcentagem referente ao tamanho dos dados que cada modelo terá acesso em relação aos dados totais.\n"
   ]
  },
  {
   "cell_type": "code",
   "execution_count": 29,
   "metadata": {
    "colab": {
     "base_uri": "https://localhost:8080/",
     "height": 221
    },
    "executionInfo": {
     "elapsed": 49,
     "status": "ok",
     "timestamp": 1626370639054,
     "user": {
      "displayName": "Bárbara Neves",
      "photoUrl": "https://lh3.googleusercontent.com/a-/AOh14GjAp_nU12lRGDLonAU6k8sURhdo84aDrahKT5_BTA=s64",
      "userId": "02067111595078707861"
     },
     "user_tz": 180
    },
    "id": "O6Jq5bcDzSYn",
    "outputId": "1f4d5a13-4805-4eed-bc56-47081e089e6f"
   },
   "outputs": [
    {
     "name": "stdout",
     "output_type": "stream",
     "text": [
      "Quantidade de combinações possíveis dos modelos da grid = 32 modelos\n"
     ]
    },
    {
     "data": {
      "text/html": [
       "<div>\n",
       "<style scoped>\n",
       "    .dataframe tbody tr th:only-of-type {\n",
       "        vertical-align: middle;\n",
       "    }\n",
       "\n",
       "    .dataframe tbody tr th {\n",
       "        vertical-align: top;\n",
       "    }\n",
       "\n",
       "    .dataframe thead th {\n",
       "        text-align: right;\n",
       "    }\n",
       "</style>\n",
       "<table border=\"1\" class=\"dataframe\">\n",
       "  <thead>\n",
       "    <tr style=\"text-align: right;\">\n",
       "      <th></th>\n",
       "      <th>mean_test_accuracy</th>\n",
       "      <th>mean_test_precision</th>\n",
       "      <th>mean_test_recall</th>\n",
       "      <th>mean_test_f1_score</th>\n",
       "      <th>mean_test_log_loss</th>\n",
       "      <th>params</th>\n",
       "    </tr>\n",
       "  </thead>\n",
       "  <tbody>\n",
       "    <tr>\n",
       "      <th>0</th>\n",
       "      <td>0.785368</td>\n",
       "      <td>0.790755</td>\n",
       "      <td>0.986513</td>\n",
       "      <td>0.877783</td>\n",
       "      <td>-7.413282</td>\n",
       "      <td>{'SVC__base_estimator__C': 10, 'SVC__base_esti...</td>\n",
       "    </tr>\n",
       "    <tr>\n",
       "      <th>1</th>\n",
       "      <td>0.781371</td>\n",
       "      <td>0.781371</td>\n",
       "      <td>1.000000</td>\n",
       "      <td>0.877269</td>\n",
       "      <td>-7.551349</td>\n",
       "      <td>{'SVC__base_estimator__C': 0.1, 'SVC__base_est...</td>\n",
       "    </tr>\n",
       "    <tr>\n",
       "      <th>2</th>\n",
       "      <td>0.781371</td>\n",
       "      <td>0.781371</td>\n",
       "      <td>1.000000</td>\n",
       "      <td>0.877269</td>\n",
       "      <td>-7.551349</td>\n",
       "      <td>{'SVC__base_estimator__C': 10, 'SVC__base_esti...</td>\n",
       "    </tr>\n",
       "    <tr>\n",
       "      <th>3</th>\n",
       "      <td>0.781371</td>\n",
       "      <td>0.781371</td>\n",
       "      <td>1.000000</td>\n",
       "      <td>0.877269</td>\n",
       "      <td>-7.551349</td>\n",
       "      <td>{'SVC__base_estimator__C': 100, 'SVC__base_est...</td>\n",
       "    </tr>\n",
       "    <tr>\n",
       "      <th>4</th>\n",
       "      <td>0.781371</td>\n",
       "      <td>0.781371</td>\n",
       "      <td>1.000000</td>\n",
       "      <td>0.877269</td>\n",
       "      <td>-7.551349</td>\n",
       "      <td>{'SVC__base_estimator__C': 10, 'SVC__base_esti...</td>\n",
       "    </tr>\n",
       "  </tbody>\n",
       "</table>\n",
       "</div>"
      ],
      "text/plain": [
       "   mean_test_accuracy  mean_test_precision  mean_test_recall  \\\n",
       "0            0.785368             0.790755          0.986513   \n",
       "1            0.781371             0.781371          1.000000   \n",
       "2            0.781371             0.781371          1.000000   \n",
       "3            0.781371             0.781371          1.000000   \n",
       "4            0.781371             0.781371          1.000000   \n",
       "\n",
       "   mean_test_f1_score  mean_test_log_loss  \\\n",
       "0            0.877783           -7.413282   \n",
       "1            0.877269           -7.551349   \n",
       "2            0.877269           -7.551349   \n",
       "3            0.877269           -7.551349   \n",
       "4            0.877269           -7.551349   \n",
       "\n",
       "                                              params  \n",
       "0  {'SVC__base_estimator__C': 10, 'SVC__base_esti...  \n",
       "1  {'SVC__base_estimator__C': 0.1, 'SVC__base_est...  \n",
       "2  {'SVC__base_estimator__C': 10, 'SVC__base_esti...  \n",
       "3  {'SVC__base_estimator__C': 100, 'SVC__base_est...  \n",
       "4  {'SVC__base_estimator__C': 10, 'SVC__base_esti...  "
      ]
     },
     "execution_count": 29,
     "metadata": {},
     "output_type": "execute_result"
    }
   ],
   "source": [
    "df_grid_svc_animal = pd.read_csv(classif_animal_grids_dir + '/' + label_animal + '_svc.csv')\n",
    "print('Quantidade de combinações possíveis dos modelos da grid = {} modelos'.format(len(df_grid_svc_animal)))\n",
    "df_grid_svc_animal.head()"
   ]
  },
  {
   "cell_type": "markdown",
   "metadata": {
    "id": "E6wK5SFY6jPA"
   },
   "source": [
    "### Atributo Furniture"
   ]
  },
  {
   "cell_type": "code",
   "execution_count": 30,
   "metadata": {
    "colab": {
     "base_uri": "https://localhost:8080/"
    },
    "executionInfo": {
     "elapsed": 5445,
     "status": "ok",
     "timestamp": 1626384203102,
     "user": {
      "displayName": "Vinicius Bernardo Gabriel UFC",
      "photoUrl": "",
      "userId": "06507825833297863155"
     },
     "user_tz": 180
    },
    "id": "GLvK1EDS6ThB",
    "outputId": "8abf2860-136e-465c-8b1c-b686a8b86702"
   },
   "outputs": [
    {
     "data": {
      "text/plain": [
       "((8256, 12), (2064, 12), (8256,), (2064,))"
      ]
     },
     "execution_count": 30,
     "metadata": {},
     "output_type": "execute_result"
    }
   ],
   "source": [
    "X_furniture = np.c_[X_classif, y_classif[:, 1]]\n",
    "y_furniture = y_classif[:, 0]\n",
    "\n",
    "X_train_furniture, X_test_furniture, y_train_furniture, y_test_furniture = train_test_split(X_furniture, \n",
    "                                                                                            y_furniture, \n",
    "                                                                                            test_size=.2, \n",
    "                                                                                            random_state=42,\n",
    "                                                                                            stratify=y_furniture) # Estratificando os dados\n",
    "\n",
    "# Salvando o conjunto de teste\n",
    "utils.save_sets(X_test_furniture, y_test_furniture, BASE_PATH + '/Dataset/test_set_classification_furniture.json')\n",
    "\n",
    "X_train_furniture.shape, X_test_furniture.shape, y_train_furniture.shape, y_test_furniture.shape"
   ]
  },
  {
   "cell_type": "code",
   "execution_count": 31,
   "metadata": {
    "colab": {
     "base_uri": "https://localhost:8080/",
     "height": 727
    },
    "executionInfo": {
     "elapsed": 629,
     "status": "ok",
     "timestamp": 1626384214226,
     "user": {
      "displayName": "Vinicius Bernardo Gabriel UFC",
      "photoUrl": "",
      "userId": "06507825833297863155"
     },
     "user_tz": 180
    },
    "id": "vJqPDIj_JGhg",
    "outputId": "7329d1ce-0404-4605-fcf0-e42bf3e5d2ef"
   },
   "outputs": [
    {
     "data": {
      "image/png": "[encoded data removed]",
      "text/plain": [
       "<Figure size 864x864 with 1 Axes>"
      ]
     },
     "metadata": {},
     "output_type": "display_data"
    }
   ],
   "source": [
    "# Verificando a estratificação\n",
    "utils.plot_labels_distribution(\"Distribuição das classes após a estratificação\",\n",
    "                               y_furniture,\n",
    "                               y_train_furniture,\n",
    "                               y_test_furniture,\n",
    "                               labels=[\"furnished\", \"not furnished\"])"
   ]
  },
  {
   "cell_type": "code",
   "execution_count": 32,
   "metadata": {
    "colab": {
     "base_uri": "https://localhost:8080/"
    },
    "executionInfo": {
     "elapsed": 281848,
     "status": "ok",
     "timestamp": 1626370924466,
     "user": {
      "displayName": "Bárbara Neves",
      "photoUrl": "https://lh3.googleusercontent.com/a-/AOh14GjAp_nU12lRGDLonAU6k8sURhdo84aDrahKT5_BTA=s64",
      "userId": "02067111595078707861"
     },
     "user_tz": 180
    },
    "id": "uLmaa3qkDa2Q",
    "outputId": "001ac27f-22af-4b6c-89b2-5590a42571ff"
   },
   "outputs": [
    {
     "name": "stdout",
     "output_type": "stream",
     "text": [
      "[DONE] Treino e geração da GridSearch do modelo Regressão Logística --> 12.600809097290039 segundos\n",
      "[DONE] Treino e geração da GridSearch do modelo KNN para Classificação --> 88.15765380859375 segundos\n",
      "[DONE] Treino e geração da GridSearch do modelo Árvore de Decisão para Classificação --> 0.35907506942749023 segundos\n",
      "[DONE] Treino e geração da GridSearch do modelo Naive Bayes para Classificação --> 0.25694918632507324 segundos\n",
      "[DONE] Treino e geração da GridSearch do modelo SVM para Classificação --> 160.66353511810303 segundos\n",
      "\n",
      "Salvando os resultados das grids search de cada modelo...\n",
      "Salvando os melhores modelos...\n"
     ]
    },
    {
     "data": {
      "text/plain": [
       "{'furniture_logistic_regression': Pipeline(steps=[('scaler', StandardScaler()),\n",
       "                 ('LR',\n",
       "                  LogisticRegression(C=0.001, penalty='none',\n",
       "                                     solver='newton-cg'))]),\n",
       " 'furniture_knn': Pipeline(steps=[('scaler', StandardScaler()),\n",
       "                 ('KNN',\n",
       "                  KNeighborsClassifier(metric='chebyshev', weights='distance'))]),\n",
       " 'furniture_decision_tree': DecisionTreeClassifier(),\n",
       " 'furniture_naive_bayes': GaussianNB(var_smoothing=1e-11),\n",
       " 'furniture_svc': Pipeline(steps=[('scaler', StandardScaler()),\n",
       "                 ('SVC',\n",
       "                  BaggingClassifier(base_estimator=SVC(C=100, gamma='auto'),\n",
       "                                    max_samples=0.06666666666666667,\n",
       "                                    n_estimators=15))])}"
      ]
     },
     "execution_count": 32,
     "metadata": {},
     "output_type": "execute_result"
    }
   ],
   "source": [
    "label_furniture = 'furniture'\n",
    "classif_furniture_models_dir = MODELS_BASE_DIR + \"/Classification/Furniture\"\n",
    "classif_furniture_grids_dir = GRIDS_BASE_DIR + \"/Classification/Furniture\" \n",
    "classif_cv = StratifiedKFold(n_splits=3, shuffle=True, random_state=42)\n",
    "\n",
    "# Criação das Grids Search e seleção dos melhores modelos de acordo com o F1\n",
    "best_classification_furniture_models = models.train_classification_models(needs_to_train=True, # Carrega os modelos treinados\n",
    "                                                                          models_path=classif_furniture_models_dir,\n",
    "                                                                          X_train=X_train_furniture, \n",
    "                                                                          y_train=y_train_furniture, \n",
    "                                                                          score_metrics=classif_score_metrics, \n",
    "                                                                          cv=classif_cv, \n",
    "                                                                          best_criteria=classif_best_criteria, \n",
    "                                                                          grids_path=classif_furniture_grids_dir, \n",
    "                                                                          label=label_furniture)\n",
    "best_classification_furniture_models"
   ]
  },
  {
   "cell_type": "markdown",
   "metadata": {
    "id": "7RERTxL77EB8"
   },
   "source": [
    "#### Regressão Logística\n",
    "\n",
    "As **combinações de hiperparâmetros** utilizadas se tratam das mesmas que foram escolhidas para a classificação do atributo `animal`."
   ]
  },
  {
   "cell_type": "code",
   "execution_count": 33,
   "metadata": {
    "colab": {
     "base_uri": "https://localhost:8080/",
     "height": 436
    },
    "executionInfo": {
     "elapsed": 82,
     "status": "ok",
     "timestamp": 1626370924468,
     "user": {
      "displayName": "Bárbara Neves",
      "photoUrl": "https://lh3.googleusercontent.com/a-/AOh14GjAp_nU12lRGDLonAU6k8sURhdo84aDrahKT5_BTA=s64",
      "userId": "02067111595078707861"
     },
     "user_tz": 180
    },
    "id": "9WMfvzj76c_4",
    "outputId": "81f2a477-eba0-4619-97d2-b6408ce3cf2c"
   },
   "outputs": [
    {
     "name": "stdout",
     "output_type": "stream",
     "text": [
      "Quantidade de combinações possíveis dos modelos da grid = 90 modelos\n"
     ]
    },
    {
     "data": {
      "text/html": [
       "<div>\n",
       "<style scoped>\n",
       "    .dataframe tbody tr th:only-of-type {\n",
       "        vertical-align: middle;\n",
       "    }\n",
       "\n",
       "    .dataframe tbody tr th {\n",
       "        vertical-align: top;\n",
       "    }\n",
       "\n",
       "    .dataframe thead th {\n",
       "        text-align: right;\n",
       "    }\n",
       "</style>\n",
       "<table border=\"1\" class=\"dataframe\">\n",
       "  <thead>\n",
       "    <tr style=\"text-align: right;\">\n",
       "      <th></th>\n",
       "      <th>mean_test_accuracy</th>\n",
       "      <th>mean_test_precision</th>\n",
       "      <th>mean_test_recall</th>\n",
       "      <th>mean_test_f1_score</th>\n",
       "      <th>mean_test_log_loss</th>\n",
       "      <th>params</th>\n",
       "    </tr>\n",
       "  </thead>\n",
       "  <tbody>\n",
       "    <tr>\n",
       "      <th>0</th>\n",
       "      <td>0.757631</td>\n",
       "      <td>0.509298</td>\n",
       "      <td>0.101591</td>\n",
       "      <td>0.169331</td>\n",
       "      <td>-8.371154</td>\n",
       "      <td>{'LR__C': 0.001, 'LR__penalty': 'none', 'LR__s...</td>\n",
       "    </tr>\n",
       "    <tr>\n",
       "      <th>1</th>\n",
       "      <td>0.757631</td>\n",
       "      <td>0.509298</td>\n",
       "      <td>0.101591</td>\n",
       "      <td>0.169331</td>\n",
       "      <td>-8.371154</td>\n",
       "      <td>{'LR__C': 25, 'LR__penalty': 'l2', 'LR__solver...</td>\n",
       "    </tr>\n",
       "    <tr>\n",
       "      <th>2</th>\n",
       "      <td>0.757631</td>\n",
       "      <td>0.509298</td>\n",
       "      <td>0.101591</td>\n",
       "      <td>0.169331</td>\n",
       "      <td>-8.371154</td>\n",
       "      <td>{'LR__C': 1, 'LR__penalty': 'none', 'LR__solve...</td>\n",
       "    </tr>\n",
       "    <tr>\n",
       "      <th>3</th>\n",
       "      <td>0.757631</td>\n",
       "      <td>0.509298</td>\n",
       "      <td>0.101591</td>\n",
       "      <td>0.169331</td>\n",
       "      <td>-8.371154</td>\n",
       "      <td>{'LR__C': 25, 'LR__penalty': 'l2', 'LR__solver...</td>\n",
       "    </tr>\n",
       "    <tr>\n",
       "      <th>4</th>\n",
       "      <td>0.757631</td>\n",
       "      <td>0.509298</td>\n",
       "      <td>0.101591</td>\n",
       "      <td>0.169331</td>\n",
       "      <td>-8.371154</td>\n",
       "      <td>{'LR__C': 1, 'LR__penalty': 'none', 'LR__solve...</td>\n",
       "    </tr>\n",
       "    <tr>\n",
       "      <th>...</th>\n",
       "      <td>...</td>\n",
       "      <td>...</td>\n",
       "      <td>...</td>\n",
       "      <td>...</td>\n",
       "      <td>...</td>\n",
       "      <td>...</td>\n",
       "    </tr>\n",
       "    <tr>\n",
       "      <th>85</th>\n",
       "      <td>0.756783</td>\n",
       "      <td>0.333333</td>\n",
       "      <td>0.001495</td>\n",
       "      <td>0.002975</td>\n",
       "      <td>-8.400420</td>\n",
       "      <td>{'LR__C': 0.001, 'LR__penalty': 'l2', 'LR__sol...</td>\n",
       "    </tr>\n",
       "    <tr>\n",
       "      <th>86</th>\n",
       "      <td>0.756783</td>\n",
       "      <td>0.333333</td>\n",
       "      <td>0.001495</td>\n",
       "      <td>0.002975</td>\n",
       "      <td>-8.400420</td>\n",
       "      <td>{'LR__C': 0.001, 'LR__penalty': 'l2', 'LR__sol...</td>\n",
       "    </tr>\n",
       "    <tr>\n",
       "      <th>87</th>\n",
       "      <td>0.756783</td>\n",
       "      <td>0.333333</td>\n",
       "      <td>0.001495</td>\n",
       "      <td>0.002975</td>\n",
       "      <td>-8.400420</td>\n",
       "      <td>{'LR__C': 0.001, 'LR__penalty': 'l2', 'LR__sol...</td>\n",
       "    </tr>\n",
       "    <tr>\n",
       "      <th>88</th>\n",
       "      <td>0.756783</td>\n",
       "      <td>0.000000</td>\n",
       "      <td>0.000000</td>\n",
       "      <td>0.000000</td>\n",
       "      <td>-8.400419</td>\n",
       "      <td>{'LR__C': 0.001, 'LR__penalty': 'l1', 'LR__sol...</td>\n",
       "    </tr>\n",
       "    <tr>\n",
       "      <th>89</th>\n",
       "      <td>0.756783</td>\n",
       "      <td>0.000000</td>\n",
       "      <td>0.000000</td>\n",
       "      <td>0.000000</td>\n",
       "      <td>-8.400419</td>\n",
       "      <td>{'LR__C': 0.001, 'LR__penalty': 'l1', 'LR__sol...</td>\n",
       "    </tr>\n",
       "  </tbody>\n",
       "</table>\n",
       "<p>90 rows × 6 columns</p>\n",
       "</div>"
      ],
      "text/plain": [
       "    mean_test_accuracy  mean_test_precision  mean_test_recall  \\\n",
       "0             0.757631             0.509298          0.101591   \n",
       "1             0.757631             0.509298          0.101591   \n",
       "2             0.757631             0.509298          0.101591   \n",
       "3             0.757631             0.509298          0.101591   \n",
       "4             0.757631             0.509298          0.101591   \n",
       "..                 ...                  ...               ...   \n",
       "85            0.756783             0.333333          0.001495   \n",
       "86            0.756783             0.333333          0.001495   \n",
       "87            0.756783             0.333333          0.001495   \n",
       "88            0.756783             0.000000          0.000000   \n",
       "89            0.756783             0.000000          0.000000   \n",
       "\n",
       "    mean_test_f1_score  mean_test_log_loss  \\\n",
       "0             0.169331           -8.371154   \n",
       "1             0.169331           -8.371154   \n",
       "2             0.169331           -8.371154   \n",
       "3             0.169331           -8.371154   \n",
       "4             0.169331           -8.371154   \n",
       "..                 ...                 ...   \n",
       "85            0.002975           -8.400420   \n",
       "86            0.002975           -8.400420   \n",
       "87            0.002975           -8.400420   \n",
       "88            0.000000           -8.400419   \n",
       "89            0.000000           -8.400419   \n",
       "\n",
       "                                               params  \n",
       "0   {'LR__C': 0.001, 'LR__penalty': 'none', 'LR__s...  \n",
       "1   {'LR__C': 25, 'LR__penalty': 'l2', 'LR__solver...  \n",
       "2   {'LR__C': 1, 'LR__penalty': 'none', 'LR__solve...  \n",
       "3   {'LR__C': 25, 'LR__penalty': 'l2', 'LR__solver...  \n",
       "4   {'LR__C': 1, 'LR__penalty': 'none', 'LR__solve...  \n",
       "..                                                ...  \n",
       "85  {'LR__C': 0.001, 'LR__penalty': 'l2', 'LR__sol...  \n",
       "86  {'LR__C': 0.001, 'LR__penalty': 'l2', 'LR__sol...  \n",
       "87  {'LR__C': 0.001, 'LR__penalty': 'l2', 'LR__sol...  \n",
       "88  {'LR__C': 0.001, 'LR__penalty': 'l1', 'LR__sol...  \n",
       "89  {'LR__C': 0.001, 'LR__penalty': 'l1', 'LR__sol...  \n",
       "\n",
       "[90 rows x 6 columns]"
      ]
     },
     "execution_count": 33,
     "metadata": {},
     "output_type": "execute_result"
    }
   ],
   "source": [
    "df_grid_logreg_furniture = pd.read_csv(classif_furniture_grids_dir + '/' + label_furniture + '_logistic_regression.csv')\n",
    "# Temos que dropar valores NaN pois, para fazermos todas as combinações possíveis, dependendendo dos parâmetros, \n",
    "# alguns modelos falham ao realizar o fit\n",
    "  # Por exemplo: o solver lbfgs não consegue lidar com as penalties L1 ou ElasticNet\n",
    "df_grid_logreg_furniture.dropna(inplace=True)\n",
    "print('Quantidade de combinações possíveis dos modelos da grid = {} modelos'.format(len(df_grid_logreg_furniture)))\n",
    "df_grid_logreg_furniture"
   ]
  },
  {
   "cell_type": "markdown",
   "metadata": {
    "id": "vy_RXZgS7oy5"
   },
   "source": [
    "#### KNN\n",
    "\n",
    "As **combinações de hiperparâmetros** utilizadas se tratam das mesmas que foram escolhidas para na tarefa de Regressão e na classificação do atributo `animal`.\n"
   ]
  },
  {
   "cell_type": "code",
   "execution_count": 34,
   "metadata": {
    "colab": {
     "base_uri": "https://localhost:8080/",
     "height": 221
    },
    "executionInfo": {
     "elapsed": 74,
     "status": "ok",
     "timestamp": 1626370924470,
     "user": {
      "displayName": "Bárbara Neves",
      "photoUrl": "https://lh3.googleusercontent.com/a-/AOh14GjAp_nU12lRGDLonAU6k8sURhdo84aDrahKT5_BTA=s64",
      "userId": "02067111595078707861"
     },
     "user_tz": 180
    },
    "id": "55UpIDel7rWR",
    "outputId": "bd3f8845-47d6-433f-bfab-d438b424f506"
   },
   "outputs": [
    {
     "name": "stdout",
     "output_type": "stream",
     "text": [
      "Quantidade de combinações possíveis dos modelos da grid = 60 modelos\n"
     ]
    },
    {
     "data": {
      "text/html": [
       "<div>\n",
       "<style scoped>\n",
       "    .dataframe tbody tr th:only-of-type {\n",
       "        vertical-align: middle;\n",
       "    }\n",
       "\n",
       "    .dataframe tbody tr th {\n",
       "        vertical-align: top;\n",
       "    }\n",
       "\n",
       "    .dataframe thead th {\n",
       "        text-align: right;\n",
       "    }\n",
       "</style>\n",
       "<table border=\"1\" class=\"dataframe\">\n",
       "  <thead>\n",
       "    <tr style=\"text-align: right;\">\n",
       "      <th></th>\n",
       "      <th>mean_test_accuracy</th>\n",
       "      <th>mean_test_precision</th>\n",
       "      <th>mean_test_recall</th>\n",
       "      <th>mean_test_f1_score</th>\n",
       "      <th>mean_test_log_loss</th>\n",
       "      <th>params</th>\n",
       "    </tr>\n",
       "  </thead>\n",
       "  <tbody>\n",
       "    <tr>\n",
       "      <th>0</th>\n",
       "      <td>0.741885</td>\n",
       "      <td>0.453511</td>\n",
       "      <td>0.299810</td>\n",
       "      <td>0.360810</td>\n",
       "      <td>-8.915057</td>\n",
       "      <td>{'KNN__metric': 'chebyshev', 'KNN__n_neighbors...</td>\n",
       "    </tr>\n",
       "    <tr>\n",
       "      <th>1</th>\n",
       "      <td>0.740916</td>\n",
       "      <td>0.448607</td>\n",
       "      <td>0.286862</td>\n",
       "      <td>0.349870</td>\n",
       "      <td>-8.948523</td>\n",
       "      <td>{'KNN__metric': 'euclidean', 'KNN__n_neighbors...</td>\n",
       "    </tr>\n",
       "    <tr>\n",
       "      <th>2</th>\n",
       "      <td>0.747335</td>\n",
       "      <td>0.467589</td>\n",
       "      <td>0.278391</td>\n",
       "      <td>0.348706</td>\n",
       "      <td>-8.726792</td>\n",
       "      <td>{'KNN__metric': 'chebyshev', 'KNN__n_neighbors...</td>\n",
       "    </tr>\n",
       "    <tr>\n",
       "      <th>3</th>\n",
       "      <td>0.737161</td>\n",
       "      <td>0.437412</td>\n",
       "      <td>0.284874</td>\n",
       "      <td>0.344877</td>\n",
       "      <td>-9.078214</td>\n",
       "      <td>{'KNN__metric': 'manhattan', 'KNN__n_neighbors...</td>\n",
       "    </tr>\n",
       "    <tr>\n",
       "      <th>4</th>\n",
       "      <td>0.748910</td>\n",
       "      <td>0.471692</td>\n",
       "      <td>0.271418</td>\n",
       "      <td>0.344477</td>\n",
       "      <td>-8.672404</td>\n",
       "      <td>{'KNN__metric': 'euclidean', 'KNN__n_neighbors...</td>\n",
       "    </tr>\n",
       "  </tbody>\n",
       "</table>\n",
       "</div>"
      ],
      "text/plain": [
       "   mean_test_accuracy  mean_test_precision  mean_test_recall  \\\n",
       "0            0.741885             0.453511          0.299810   \n",
       "1            0.740916             0.448607          0.286862   \n",
       "2            0.747335             0.467589          0.278391   \n",
       "3            0.737161             0.437412          0.284874   \n",
       "4            0.748910             0.471692          0.271418   \n",
       "\n",
       "   mean_test_f1_score  mean_test_log_loss  \\\n",
       "0            0.360810           -8.915057   \n",
       "1            0.349870           -8.948523   \n",
       "2            0.348706           -8.726792   \n",
       "3            0.344877           -9.078214   \n",
       "4            0.344477           -8.672404   \n",
       "\n",
       "                                              params  \n",
       "0  {'KNN__metric': 'chebyshev', 'KNN__n_neighbors...  \n",
       "1  {'KNN__metric': 'euclidean', 'KNN__n_neighbors...  \n",
       "2  {'KNN__metric': 'chebyshev', 'KNN__n_neighbors...  \n",
       "3  {'KNN__metric': 'manhattan', 'KNN__n_neighbors...  \n",
       "4  {'KNN__metric': 'euclidean', 'KNN__n_neighbors...  "
      ]
     },
     "execution_count": 34,
     "metadata": {},
     "output_type": "execute_result"
    }
   ],
   "source": [
    "df_grid_knn_furniture = pd.read_csv(classif_furniture_grids_dir + '/' + label_furniture + '_knn.csv')\n",
    "print('Quantidade de combinações possíveis dos modelos da grid = {} modelos'.format(len(df_grid_knn_furniture)))\n",
    "df_grid_knn_furniture.head()"
   ]
  },
  {
   "cell_type": "markdown",
   "metadata": {
    "id": "EG8ldeL17tJ2"
   },
   "source": [
    "#### Árvores de Decisão\n",
    "\n",
    "As **combinações de hiperparâmetros** utilizadas se tratam das mesmas que foram escolhidas para a classificação do atributo `animal`."
   ]
  },
  {
   "cell_type": "code",
   "execution_count": 35,
   "metadata": {
    "colab": {
     "base_uri": "https://localhost:8080/",
     "height": 190
    },
    "executionInfo": {
     "elapsed": 64,
     "status": "ok",
     "timestamp": 1626370924471,
     "user": {
      "displayName": "Bárbara Neves",
      "photoUrl": "https://lh3.googleusercontent.com/a-/AOh14GjAp_nU12lRGDLonAU6k8sURhdo84aDrahKT5_BTA=s64",
      "userId": "02067111595078707861"
     },
     "user_tz": 180
    },
    "id": "4xBatPcx7vM9",
    "outputId": "8647dcee-6e00-487d-e9d0-d9fc55721f76"
   },
   "outputs": [
    {
     "name": "stdout",
     "output_type": "stream",
     "text": [
      "Quantidade de combinações possíveis dos modelos da grid = 4 modelos\n"
     ]
    },
    {
     "data": {
      "text/html": [
       "<div>\n",
       "<style scoped>\n",
       "    .dataframe tbody tr th:only-of-type {\n",
       "        vertical-align: middle;\n",
       "    }\n",
       "\n",
       "    .dataframe tbody tr th {\n",
       "        vertical-align: top;\n",
       "    }\n",
       "\n",
       "    .dataframe thead th {\n",
       "        text-align: right;\n",
       "    }\n",
       "</style>\n",
       "<table border=\"1\" class=\"dataframe\">\n",
       "  <thead>\n",
       "    <tr style=\"text-align: right;\">\n",
       "      <th></th>\n",
       "      <th>mean_test_accuracy</th>\n",
       "      <th>mean_test_precision</th>\n",
       "      <th>mean_test_recall</th>\n",
       "      <th>mean_test_f1_score</th>\n",
       "      <th>mean_test_log_loss</th>\n",
       "      <th>params</th>\n",
       "    </tr>\n",
       "  </thead>\n",
       "  <tbody>\n",
       "    <tr>\n",
       "      <th>0</th>\n",
       "      <td>0.696948</td>\n",
       "      <td>0.381254</td>\n",
       "      <td>0.396923</td>\n",
       "      <td>0.388834</td>\n",
       "      <td>-10.467182</td>\n",
       "      <td>{'criterion': 'gini', 'splitter': 'best'}</td>\n",
       "    </tr>\n",
       "    <tr>\n",
       "      <th>1</th>\n",
       "      <td>0.689559</td>\n",
       "      <td>0.370929</td>\n",
       "      <td>0.397419</td>\n",
       "      <td>0.383662</td>\n",
       "      <td>-10.722380</td>\n",
       "      <td>{'criterion': 'gini', 'splitter': 'random'}</td>\n",
       "    </tr>\n",
       "    <tr>\n",
       "      <th>2</th>\n",
       "      <td>0.695979</td>\n",
       "      <td>0.376587</td>\n",
       "      <td>0.379978</td>\n",
       "      <td>0.378175</td>\n",
       "      <td>-10.500647</td>\n",
       "      <td>{'criterion': 'entropy', 'splitter': 'best'}</td>\n",
       "    </tr>\n",
       "    <tr>\n",
       "      <th>3</th>\n",
       "      <td>0.687379</td>\n",
       "      <td>0.364770</td>\n",
       "      <td>0.384460</td>\n",
       "      <td>0.374349</td>\n",
       "      <td>-10.797681</td>\n",
       "      <td>{'criterion': 'entropy', 'splitter': 'random'}</td>\n",
       "    </tr>\n",
       "  </tbody>\n",
       "</table>\n",
       "</div>"
      ],
      "text/plain": [
       "   mean_test_accuracy  mean_test_precision  mean_test_recall  \\\n",
       "0            0.696948             0.381254          0.396923   \n",
       "1            0.689559             0.370929          0.397419   \n",
       "2            0.695979             0.376587          0.379978   \n",
       "3            0.687379             0.364770          0.384460   \n",
       "\n",
       "   mean_test_f1_score  mean_test_log_loss  \\\n",
       "0            0.388834          -10.467182   \n",
       "1            0.383662          -10.722380   \n",
       "2            0.378175          -10.500647   \n",
       "3            0.374349          -10.797681   \n",
       "\n",
       "                                           params  \n",
       "0       {'criterion': 'gini', 'splitter': 'best'}  \n",
       "1     {'criterion': 'gini', 'splitter': 'random'}  \n",
       "2    {'criterion': 'entropy', 'splitter': 'best'}  \n",
       "3  {'criterion': 'entropy', 'splitter': 'random'}  "
      ]
     },
     "execution_count": 35,
     "metadata": {},
     "output_type": "execute_result"
    }
   ],
   "source": [
    "df_grid_dt_furniture = pd.read_csv(classif_furniture_grids_dir + '/' + label_furniture + '_decision_tree.csv')\n",
    "print('Quantidade de combinações possíveis dos modelos da grid = {} modelos'.format(len(df_grid_dt_furniture)))\n",
    "df_grid_dt_furniture.head()"
   ]
  },
  {
   "cell_type": "markdown",
   "metadata": {
    "id": "FXCt1wHD7xEA"
   },
   "source": [
    "#### Naive Bayes\n",
    "\n",
    "As **combinações de hiperparâmetros** utilizadas se tratam das mesmas que foram escolhidas para a classificação do atributo `animal`."
   ]
  },
  {
   "cell_type": "code",
   "execution_count": 36,
   "metadata": {
    "colab": {
     "base_uri": "https://localhost:8080/",
     "height": 221
    },
    "executionInfo": {
     "elapsed": 56,
     "status": "ok",
     "timestamp": 1626370924473,
     "user": {
      "displayName": "Bárbara Neves",
      "photoUrl": "https://lh3.googleusercontent.com/a-/AOh14GjAp_nU12lRGDLonAU6k8sURhdo84aDrahKT5_BTA=s64",
      "userId": "02067111595078707861"
     },
     "user_tz": 180
    },
    "id": "gNN1PWBC7zot",
    "outputId": "fbae14ba-5b23-4e8c-ff88-1745d5fce24b"
   },
   "outputs": [
    {
     "name": "stdout",
     "output_type": "stream",
     "text": [
      "Quantidade de combinações possíveis dos modelos da grid = 5 modelos\n"
     ]
    },
    {
     "data": {
      "text/html": [
       "<div>\n",
       "<style scoped>\n",
       "    .dataframe tbody tr th:only-of-type {\n",
       "        vertical-align: middle;\n",
       "    }\n",
       "\n",
       "    .dataframe tbody tr th {\n",
       "        vertical-align: top;\n",
       "    }\n",
       "\n",
       "    .dataframe thead th {\n",
       "        text-align: right;\n",
       "    }\n",
       "</style>\n",
       "<table border=\"1\" class=\"dataframe\">\n",
       "  <thead>\n",
       "    <tr style=\"text-align: right;\">\n",
       "      <th></th>\n",
       "      <th>mean_test_accuracy</th>\n",
       "      <th>mean_test_precision</th>\n",
       "      <th>mean_test_recall</th>\n",
       "      <th>mean_test_f1_score</th>\n",
       "      <th>mean_test_log_loss</th>\n",
       "      <th>params</th>\n",
       "    </tr>\n",
       "  </thead>\n",
       "  <tbody>\n",
       "    <tr>\n",
       "      <th>0</th>\n",
       "      <td>0.713421</td>\n",
       "      <td>0.397127</td>\n",
       "      <td>0.344621</td>\n",
       "      <td>0.368880</td>\n",
       "      <td>-9.898205</td>\n",
       "      <td>{'var_smoothing': 1e-11}</td>\n",
       "    </tr>\n",
       "    <tr>\n",
       "      <th>1</th>\n",
       "      <td>0.716085</td>\n",
       "      <td>0.399989</td>\n",
       "      <td>0.335156</td>\n",
       "      <td>0.364623</td>\n",
       "      <td>-9.806165</td>\n",
       "      <td>{'var_smoothing': 1e-10}</td>\n",
       "    </tr>\n",
       "    <tr>\n",
       "      <th>2</th>\n",
       "      <td>0.728077</td>\n",
       "      <td>0.405933</td>\n",
       "      <td>0.253485</td>\n",
       "      <td>0.312053</td>\n",
       "      <td>-9.391975</td>\n",
       "      <td>{'var_smoothing': 1e-09}</td>\n",
       "    </tr>\n",
       "    <tr>\n",
       "      <th>3</th>\n",
       "      <td>0.735586</td>\n",
       "      <td>0.379970</td>\n",
       "      <td>0.133468</td>\n",
       "      <td>0.196640</td>\n",
       "      <td>-9.132571</td>\n",
       "      <td>{'var_smoothing': 1e-08}</td>\n",
       "    </tr>\n",
       "    <tr>\n",
       "      <th>4</th>\n",
       "      <td>0.738493</td>\n",
       "      <td>0.369238</td>\n",
       "      <td>0.100602</td>\n",
       "      <td>0.157256</td>\n",
       "      <td>-9.032158</td>\n",
       "      <td>{'var_smoothing': 1e-07}</td>\n",
       "    </tr>\n",
       "  </tbody>\n",
       "</table>\n",
       "</div>"
      ],
      "text/plain": [
       "   mean_test_accuracy  mean_test_precision  mean_test_recall  \\\n",
       "0            0.713421             0.397127          0.344621   \n",
       "1            0.716085             0.399989          0.335156   \n",
       "2            0.728077             0.405933          0.253485   \n",
       "3            0.735586             0.379970          0.133468   \n",
       "4            0.738493             0.369238          0.100602   \n",
       "\n",
       "   mean_test_f1_score  mean_test_log_loss                    params  \n",
       "0            0.368880           -9.898205  {'var_smoothing': 1e-11}  \n",
       "1            0.364623           -9.806165  {'var_smoothing': 1e-10}  \n",
       "2            0.312053           -9.391975  {'var_smoothing': 1e-09}  \n",
       "3            0.196640           -9.132571  {'var_smoothing': 1e-08}  \n",
       "4            0.157256           -9.032158  {'var_smoothing': 1e-07}  "
      ]
     },
     "execution_count": 36,
     "metadata": {},
     "output_type": "execute_result"
    }
   ],
   "source": [
    "df_grid_nb_furniture = pd.read_csv(classif_furniture_grids_dir + '/' + label_furniture + '_naive_bayes.csv')\n",
    "print('Quantidade de combinações possíveis dos modelos da grid = {} modelos'.format(len(df_grid_nb_furniture)))\n",
    "df_grid_nb_furniture.head()"
   ]
  },
  {
   "cell_type": "markdown",
   "metadata": {
    "id": "1i-8YqUG71Bc"
   },
   "source": [
    "#### SVM\n",
    "\n",
    "As **combinações de hiperparâmetros** utilizadas se tratam das mesmas que foram escolhidas para na tarefa de Regressão e na classificação do atributo `animal`."
   ]
  },
  {
   "cell_type": "code",
   "execution_count": 37,
   "metadata": {
    "colab": {
     "base_uri": "https://localhost:8080/",
     "height": 221
    },
    "executionInfo": {
     "elapsed": 46,
     "status": "ok",
     "timestamp": 1626370924474,
     "user": {
      "displayName": "Bárbara Neves",
      "photoUrl": "https://lh3.googleusercontent.com/a-/AOh14GjAp_nU12lRGDLonAU6k8sURhdo84aDrahKT5_BTA=s64",
      "userId": "02067111595078707861"
     },
     "user_tz": 180
    },
    "id": "djIofogG72fT",
    "outputId": "b3ea4f0f-52c2-402a-ced6-9c61a763572d"
   },
   "outputs": [
    {
     "name": "stdout",
     "output_type": "stream",
     "text": [
      "Quantidade de combinações possíveis dos modelos da grid = 32 modelos\n"
     ]
    },
    {
     "data": {
      "text/html": [
       "<div>\n",
       "<style scoped>\n",
       "    .dataframe tbody tr th:only-of-type {\n",
       "        vertical-align: middle;\n",
       "    }\n",
       "\n",
       "    .dataframe tbody tr th {\n",
       "        vertical-align: top;\n",
       "    }\n",
       "\n",
       "    .dataframe thead th {\n",
       "        text-align: right;\n",
       "    }\n",
       "</style>\n",
       "<table border=\"1\" class=\"dataframe\">\n",
       "  <thead>\n",
       "    <tr style=\"text-align: right;\">\n",
       "      <th></th>\n",
       "      <th>mean_test_accuracy</th>\n",
       "      <th>mean_test_precision</th>\n",
       "      <th>mean_test_recall</th>\n",
       "      <th>mean_test_f1_score</th>\n",
       "      <th>mean_test_log_loss</th>\n",
       "      <th>params</th>\n",
       "    </tr>\n",
       "  </thead>\n",
       "  <tbody>\n",
       "    <tr>\n",
       "      <th>0</th>\n",
       "      <td>0.776042</td>\n",
       "      <td>0.584962</td>\n",
       "      <td>0.274895</td>\n",
       "      <td>0.373763</td>\n",
       "      <td>-7.735285</td>\n",
       "      <td>{'SVC__base_estimator__C': 100, 'SVC__base_est...</td>\n",
       "    </tr>\n",
       "    <tr>\n",
       "      <th>1</th>\n",
       "      <td>0.774588</td>\n",
       "      <td>0.583960</td>\n",
       "      <td>0.259468</td>\n",
       "      <td>0.358863</td>\n",
       "      <td>-7.785485</td>\n",
       "      <td>{'SVC__base_estimator__C': 100, 'SVC__base_est...</td>\n",
       "    </tr>\n",
       "    <tr>\n",
       "      <th>2</th>\n",
       "      <td>0.766352</td>\n",
       "      <td>0.540737</td>\n",
       "      <td>0.261953</td>\n",
       "      <td>0.352843</td>\n",
       "      <td>-8.069968</td>\n",
       "      <td>{'SVC__base_estimator__C': 100, 'SVC__base_est...</td>\n",
       "    </tr>\n",
       "    <tr>\n",
       "      <th>3</th>\n",
       "      <td>0.767078</td>\n",
       "      <td>0.544787</td>\n",
       "      <td>0.254967</td>\n",
       "      <td>0.346792</td>\n",
       "      <td>-8.044865</td>\n",
       "      <td>{'SVC__base_estimator__C': 100, 'SVC__base_est...</td>\n",
       "    </tr>\n",
       "    <tr>\n",
       "      <th>4</th>\n",
       "      <td>0.732074</td>\n",
       "      <td>0.409275</td>\n",
       "      <td>0.228117</td>\n",
       "      <td>0.290548</td>\n",
       "      <td>-9.253913</td>\n",
       "      <td>{'SVC__base_estimator__C': 100, 'SVC__base_est...</td>\n",
       "    </tr>\n",
       "  </tbody>\n",
       "</table>\n",
       "</div>"
      ],
      "text/plain": [
       "   mean_test_accuracy  mean_test_precision  mean_test_recall  \\\n",
       "0            0.776042             0.584962          0.274895   \n",
       "1            0.774588             0.583960          0.259468   \n",
       "2            0.766352             0.540737          0.261953   \n",
       "3            0.767078             0.544787          0.254967   \n",
       "4            0.732074             0.409275          0.228117   \n",
       "\n",
       "   mean_test_f1_score  mean_test_log_loss  \\\n",
       "0            0.373763           -7.735285   \n",
       "1            0.358863           -7.785485   \n",
       "2            0.352843           -8.069968   \n",
       "3            0.346792           -8.044865   \n",
       "4            0.290548           -9.253913   \n",
       "\n",
       "                                              params  \n",
       "0  {'SVC__base_estimator__C': 100, 'SVC__base_est...  \n",
       "1  {'SVC__base_estimator__C': 100, 'SVC__base_est...  \n",
       "2  {'SVC__base_estimator__C': 100, 'SVC__base_est...  \n",
       "3  {'SVC__base_estimator__C': 100, 'SVC__base_est...  \n",
       "4  {'SVC__base_estimator__C': 100, 'SVC__base_est...  "
      ]
     },
     "execution_count": 37,
     "metadata": {},
     "output_type": "execute_result"
    }
   ],
   "source": [
    "df_grid_svc_furniture = pd.read_csv(classif_furniture_grids_dir + '/' + label_furniture + '_svc.csv')\n",
    "print('Quantidade de combinações possíveis dos modelos da grid = {} modelos'.format(len(df_grid_svc_furniture)))\n",
    "df_grid_svc_furniture.head()"
   ]
  }
 ],
 "metadata": {
  "colab": {
   "collapsed_sections": [],
   "name": "2 - Predictions for Regression and Classification Tasks.ipynb",
   "provenance": [],
   "toc_visible": true
  },
  "kernelspec": {
   "display_name": "Python 3",
   "language": "python",
   "name": "python3"
  },
  "language_info": {
   "codemirror_mode": {
    "name": "ipython",
    "version": 3
   },
   "file_extension": ".py",
   "mimetype": "text/x-python",
   "name": "python",
   "nbconvert_exporter": "python",
   "pygments_lexer": "ipython3",
   "version": "3.8.10"
  }
 },
 "nbformat": 4,
 "nbformat_minor": 1
}
